{
 "cells": [
  {
   "cell_type": "markdown",
   "id": "33aec43b",
   "metadata": {},
   "source": [
    "# Emotion detection in song lyrics"
   ]
  },
  {
   "cell_type": "code",
   "execution_count": 1,
   "id": "ee652426",
   "metadata": {},
   "outputs": [],
   "source": [
    "import pandas as pd\n",
    "import numpy as np\n",
    "from tqdm.auto import tqdm"
   ]
  },
  {
   "cell_type": "markdown",
   "id": "f12f90d3",
   "metadata": {},
   "source": [
    "## Data Import"
   ]
  },
  {
   "cell_type": "code",
   "execution_count": 2,
   "id": "028e8946",
   "metadata": {},
   "outputs": [],
   "source": [
    "# Importing EmoBank datasets\n",
    "path = \"Data/EmoBank-master/corpus/\"\n",
    "\n",
    "raw = pd.read_csv(path+'raw.csv') # Text\n",
    "reader = pd.read_csv(path+'reader.csv') # VAD values\n",
    "meta = pd.read_csv(path+'meta.tsv', sep='\\t') # Category"
   ]
  },
  {
   "cell_type": "code",
   "execution_count": 3,
   "id": "8288618d",
   "metadata": {},
   "outputs": [],
   "source": [
    "# Retrieving useful columns\n",
    "reader = reader.iloc[:, :4]\n",
    "meta = meta.iloc[:, :3]"
   ]
  },
  {
   "cell_type": "code",
   "execution_count": 4,
   "id": "fb2b686f",
   "metadata": {},
   "outputs": [],
   "source": [
    "from functools import reduce\n",
    "\n",
    "# Merging dataframes\n",
    "dfs = [raw, reader, meta]\n",
    "data = reduce(lambda  left, right: pd.merge(left, right, on=['id']), dfs)"
   ]
  },
  {
   "cell_type": "code",
   "execution_count": 5,
   "id": "0ed5fcb7",
   "metadata": {},
   "outputs": [],
   "source": [
    "# Map VAD scores on the range [-1, 1]\n",
    "from scipy.interpolate import interp1d\n",
    "\n",
    "range_map = interp1d([1, 5], [-1, 1])\n",
    "data.iloc[:, 2:5] = range_map(data.iloc[:, 2:5])"
   ]
  },
  {
   "cell_type": "code",
   "execution_count": 6,
   "id": "be98ca02",
   "metadata": {
    "scrolled": true
   },
   "outputs": [
    {
     "data": {
      "text/html": [
       "<div>\n",
       "<style scoped>\n",
       "    .dataframe tbody tr th:only-of-type {\n",
       "        vertical-align: middle;\n",
       "    }\n",
       "\n",
       "    .dataframe tbody tr th {\n",
       "        vertical-align: top;\n",
       "    }\n",
       "\n",
       "    .dataframe thead th {\n",
       "        text-align: right;\n",
       "    }\n",
       "</style>\n",
       "<table border=\"1\" class=\"dataframe\">\n",
       "  <thead>\n",
       "    <tr style=\"text-align: right;\">\n",
       "      <th></th>\n",
       "      <th>id</th>\n",
       "      <th>text</th>\n",
       "      <th>V</th>\n",
       "      <th>A</th>\n",
       "      <th>D</th>\n",
       "      <th>document</th>\n",
       "      <th>category</th>\n",
       "    </tr>\n",
       "  </thead>\n",
       "  <tbody>\n",
       "    <tr>\n",
       "      <th>0</th>\n",
       "      <td>Acephalous-Cant-believe_4_47</td>\n",
       "      <td>I can't believe I wrote all that last year.</td>\n",
       "      <td>0.0</td>\n",
       "      <td>0.2</td>\n",
       "      <td>0.1</td>\n",
       "      <td>Acephalous-Cant-believe</td>\n",
       "      <td>blog</td>\n",
       "    </tr>\n",
       "    <tr>\n",
       "      <th>1</th>\n",
       "      <td>Acephalous-Cant-believe_83_354</td>\n",
       "      <td>Because I've been grading all damn day and am ...</td>\n",
       "      <td>-0.1</td>\n",
       "      <td>0.1</td>\n",
       "      <td>0.1</td>\n",
       "      <td>Acephalous-Cant-believe</td>\n",
       "      <td>blog</td>\n",
       "    </tr>\n",
       "    <tr>\n",
       "      <th>2</th>\n",
       "      <td>Acephalous-Cant-believe_355_499</td>\n",
       "      <td>However, when I started looking through my arc...</td>\n",
       "      <td>0.2</td>\n",
       "      <td>0.0</td>\n",
       "      <td>0.1</td>\n",
       "      <td>Acephalous-Cant-believe</td>\n",
       "      <td>blog</td>\n",
       "    </tr>\n",
       "    <tr>\n",
       "      <th>3</th>\n",
       "      <td>Acephalous-Cant-believe_500_515</td>\n",
       "      <td>What do I mean?</td>\n",
       "      <td>0.0</td>\n",
       "      <td>0.0</td>\n",
       "      <td>0.0</td>\n",
       "      <td>Acephalous-Cant-believe</td>\n",
       "      <td>blog</td>\n",
       "    </tr>\n",
       "    <tr>\n",
       "      <th>4</th>\n",
       "      <td>Acephalous-Cant-believe_517_626</td>\n",
       "      <td>The posts I consider foundational to my curren...</td>\n",
       "      <td>0.0</td>\n",
       "      <td>0.0</td>\n",
       "      <td>0.0</td>\n",
       "      <td>Acephalous-Cant-believe</td>\n",
       "      <td>blog</td>\n",
       "    </tr>\n",
       "  </tbody>\n",
       "</table>\n",
       "</div>"
      ],
      "text/plain": [
       "                                id  \\\n",
       "0     Acephalous-Cant-believe_4_47   \n",
       "1   Acephalous-Cant-believe_83_354   \n",
       "2  Acephalous-Cant-believe_355_499   \n",
       "3  Acephalous-Cant-believe_500_515   \n",
       "4  Acephalous-Cant-believe_517_626   \n",
       "\n",
       "                                                text    V    A    D  \\\n",
       "0        I can't believe I wrote all that last year.  0.0  0.2  0.1   \n",
       "1  Because I've been grading all damn day and am ... -0.1  0.1  0.1   \n",
       "2  However, when I started looking through my arc...  0.2  0.0  0.1   \n",
       "3                                    What do I mean?  0.0  0.0  0.0   \n",
       "4  The posts I consider foundational to my curren...  0.0  0.0  0.0   \n",
       "\n",
       "                  document category  \n",
       "0  Acephalous-Cant-believe     blog  \n",
       "1  Acephalous-Cant-believe     blog  \n",
       "2  Acephalous-Cant-believe     blog  \n",
       "3  Acephalous-Cant-believe     blog  \n",
       "4  Acephalous-Cant-believe     blog  "
      ]
     },
     "execution_count": 6,
     "metadata": {},
     "output_type": "execute_result"
    }
   ],
   "source": [
    "data.head()"
   ]
  },
  {
   "cell_type": "markdown",
   "id": "f281bd86",
   "metadata": {},
   "source": [
    "## Text Preprocessing"
   ]
  },
  {
   "cell_type": "code",
   "execution_count": 7,
   "id": "c0b63cca",
   "metadata": {},
   "outputs": [],
   "source": [
    "import spacy\n",
    "import string\n",
    "import contractions\n",
    "import nltk\n",
    "\n",
    "nlp = spacy.load(\"en_core_web_sm\")\n",
    "punct = string.punctuation\n",
    "\n",
    "def text_preproc(text):\n",
    "    \"\"\"\n",
    "    text: string to tokenize\n",
    "    \n",
    "    Normalize the input, lower characters, extend contractions, \n",
    "    remove functional punctuation, retrieve lemmas.\n",
    "    Return a list of words.\n",
    "    \"\"\"\n",
    "    \n",
    "    text = text.lower()\n",
    "    text = contractions.fix(text)\n",
    "    text = \"\".join([char for char in text if char not in punct])\n",
    "    text = nlp(text)\n",
    "    \n",
    "    doc = [word.lemma_ for word in text]\n",
    "        \n",
    "    return doc"
   ]
  },
  {
   "cell_type": "code",
   "execution_count": 8,
   "id": "bcd36433",
   "metadata": {},
   "outputs": [
    {
     "data": {
      "application/vnd.jupyter.widget-view+json": {
       "model_id": "ad970f3f7f7e4469a456380f4100e6e8",
       "version_major": 2,
       "version_minor": 0
      },
      "text/plain": [
       "  0%|          | 0/10325 [00:00<?, ?it/s]"
      ]
     },
     "metadata": {},
     "output_type": "display_data"
    }
   ],
   "source": [
    "tqdm.pandas()\n",
    "data['tokens'] = data['text'].progress_apply(lambda x: text_preproc(x))"
   ]
  },
  {
   "cell_type": "code",
   "execution_count": 9,
   "id": "a3f21673",
   "metadata": {
    "scrolled": false
   },
   "outputs": [
    {
     "data": {
      "text/html": [
       "<div>\n",
       "<style scoped>\n",
       "    .dataframe tbody tr th:only-of-type {\n",
       "        vertical-align: middle;\n",
       "    }\n",
       "\n",
       "    .dataframe tbody tr th {\n",
       "        vertical-align: top;\n",
       "    }\n",
       "\n",
       "    .dataframe thead th {\n",
       "        text-align: right;\n",
       "    }\n",
       "</style>\n",
       "<table border=\"1\" class=\"dataframe\">\n",
       "  <thead>\n",
       "    <tr style=\"text-align: right;\">\n",
       "      <th></th>\n",
       "      <th>text</th>\n",
       "      <th>tokens</th>\n",
       "    </tr>\n",
       "  </thead>\n",
       "  <tbody>\n",
       "    <tr>\n",
       "      <th>0</th>\n",
       "      <td>I can't believe I wrote all that last year.</td>\n",
       "      <td>[I, can, not, believe, I, write, all, that, la...</td>\n",
       "    </tr>\n",
       "    <tr>\n",
       "      <th>1</th>\n",
       "      <td>Because I've been grading all damn day and am ...</td>\n",
       "      <td>[because, I, have, be, grade, all, damn, day, ...</td>\n",
       "    </tr>\n",
       "    <tr>\n",
       "      <th>2</th>\n",
       "      <td>However, when I started looking through my arc...</td>\n",
       "      <td>[however, when, I, start, look, through, my, a...</td>\n",
       "    </tr>\n",
       "    <tr>\n",
       "      <th>3</th>\n",
       "      <td>What do I mean?</td>\n",
       "      <td>[what, do, I, mean]</td>\n",
       "    </tr>\n",
       "    <tr>\n",
       "      <th>4</th>\n",
       "      <td>The posts I consider foundational to my curren...</td>\n",
       "      <td>[the, post, I, consider, foundational, to, my,...</td>\n",
       "    </tr>\n",
       "  </tbody>\n",
       "</table>\n",
       "</div>"
      ],
      "text/plain": [
       "                                                text  \\\n",
       "0        I can't believe I wrote all that last year.   \n",
       "1  Because I've been grading all damn day and am ...   \n",
       "2  However, when I started looking through my arc...   \n",
       "3                                    What do I mean?   \n",
       "4  The posts I consider foundational to my curren...   \n",
       "\n",
       "                                              tokens  \n",
       "0  [I, can, not, believe, I, write, all, that, la...  \n",
       "1  [because, I, have, be, grade, all, damn, day, ...  \n",
       "2  [however, when, I, start, look, through, my, a...  \n",
       "3                                [what, do, I, mean]  \n",
       "4  [the, post, I, consider, foundational, to, my,...  "
      ]
     },
     "execution_count": 9,
     "metadata": {},
     "output_type": "execute_result"
    }
   ],
   "source": [
    "data.iloc[:, [1, 7]].head()"
   ]
  },
  {
   "cell_type": "markdown",
   "id": "8948e364",
   "metadata": {},
   "source": [
    "## Embedding"
   ]
  },
  {
   "cell_type": "markdown",
   "id": "5a75e700",
   "metadata": {},
   "source": [
    "### Word2Vec"
   ]
  },
  {
   "cell_type": "code",
   "execution_count": 10,
   "id": "4f69cbac",
   "metadata": {
    "scrolled": true
   },
   "outputs": [
    {
     "name": "stderr",
     "output_type": "stream",
     "text": [
      "/Users/sergiopicascia/opt/anaconda3/lib/python3.8/site-packages/gensim/similarities/__init__.py:15: UserWarning: The gensim.similarities.levenshtein submodule is disabled, because the optional Levenshtein package <https://pypi.org/project/python-Levenshtein/> is unavailable. Install Levenhstein (e.g. `pip install python-Levenshtein`) to suppress this warning.\n",
      "  warnings.warn(msg)\n"
     ]
    }
   ],
   "source": [
    "import gensim.downloader as api\n",
    "w2v = api.load('word2vec-google-news-300')"
   ]
  },
  {
   "cell_type": "code",
   "execution_count": 11,
   "id": "79b84f13",
   "metadata": {},
   "outputs": [],
   "source": [
    "def sent2vec(sent):\n",
    "    \n",
    "    vectors = []\n",
    "    for word in sent:\n",
    "        try:\n",
    "            vectors.append(w2v.get_vector(word))\n",
    "        except:\n",
    "            pass\n",
    "    \n",
    "    if not vectors:\n",
    "        return np.zeros(300)\n",
    "        \n",
    "    avg = np.mean(vectors, axis=0)\n",
    "    \n",
    "    return avg"
   ]
  },
  {
   "cell_type": "code",
   "execution_count": 12,
   "id": "93296271",
   "metadata": {
    "scrolled": true
   },
   "outputs": [],
   "source": [
    "data['word2vec'] = data['tokens'].apply(lambda x: sent2vec(x))"
   ]
  },
  {
   "cell_type": "code",
   "execution_count": 13,
   "id": "418d9971",
   "metadata": {
    "scrolled": false
   },
   "outputs": [
    {
     "data": {
      "text/plain": [
       "0    [0.031823732, -0.0037963868, 0.06633453, 0.100...\n",
       "1    [0.032586347, 0.014574503, 0.01281658, 0.12373...\n",
       "2    [0.0410791, 0.04775322, 0.020323487, 0.1447412...\n",
       "3    [0.070129395, -0.016685486, 0.11654663, 0.1768...\n",
       "4    [0.022753906, 0.0005666097, 0.032589722, 0.099...\n",
       "Name: word2vec, dtype: object"
      ]
     },
     "execution_count": 13,
     "metadata": {},
     "output_type": "execute_result"
    }
   ],
   "source": [
    "data['word2vec'].head()"
   ]
  },
  {
   "cell_type": "markdown",
   "id": "a8761aaa",
   "metadata": {},
   "source": [
    "### Doc2Vec"
   ]
  },
  {
   "cell_type": "code",
   "execution_count": 14,
   "id": "8481e2a0",
   "metadata": {},
   "outputs": [
    {
     "data": {
      "text/plain": [
       "TaggedDocument(words=['I', 'can', 'not', 'believe', 'I', 'write', 'all', 'that', 'last', 'year'], tags=[0])"
      ]
     },
     "execution_count": 14,
     "metadata": {},
     "output_type": "execute_result"
    }
   ],
   "source": [
    "from gensim.models import doc2vec\n",
    "\n",
    "# Transform tokens into tagged documents, necessary for doc2vec model\n",
    "tagDocs = list(data.apply(lambda x: doc2vec.TaggedDocument(x.tokens, [x.name]), axis=1))\n",
    "tagDocs[0]"
   ]
  },
  {
   "cell_type": "code",
   "execution_count": 15,
   "id": "ce70b887",
   "metadata": {
    "scrolled": true
   },
   "outputs": [],
   "source": [
    "# Instantiate model and vocabulary\n",
    "modelDoc2Vec = doc2vec.Doc2Vec(vector_size=50, min_count=2, epochs=40)\n",
    "modelDoc2Vec.build_vocab(tagDocs)"
   ]
  },
  {
   "cell_type": "code",
   "execution_count": 16,
   "id": "092be2fa",
   "metadata": {},
   "outputs": [],
   "source": [
    "# Train the model\n",
    "modelDoc2Vec.train(tagDocs, total_examples=modelDoc2Vec.corpus_count, epochs=modelDoc2Vec.epochs)"
   ]
  },
  {
   "cell_type": "code",
   "execution_count": 17,
   "id": "3453a926",
   "metadata": {},
   "outputs": [
    {
     "data": {
      "text/plain": [
       "array([ 0.14607349, -0.45510152, -0.21096148,  0.08329249,  0.2612397 ,\n",
       "       -0.6539716 , -0.06509317, -0.41590542, -0.4496931 ,  0.03339815,\n",
       "       -0.10746129, -0.4153262 ,  0.15846336,  0.02890161, -0.5478532 ,\n",
       "       -0.03179524,  0.66885114,  0.25283146, -0.6836037 , -0.37476912,\n",
       "        0.31410566,  0.05275747,  0.34006548,  0.16123846,  0.2709097 ,\n",
       "       -0.02648826,  0.04230324,  0.06991088, -0.4077144 , -0.08271628,\n",
       "       -0.1367673 ,  0.49990827, -0.02510439,  0.08225597, -0.34561038,\n",
       "       -0.08017121,  0.0610089 , -0.00568248, -0.05780919,  0.4120754 ,\n",
       "        0.19155551, -0.20670773,  0.16153032, -0.40042785, -0.11737451,\n",
       "        0.11770932,  0.16606946, -0.15631115,  0.220769  ,  0.10135162],\n",
       "      dtype=float32)"
      ]
     },
     "execution_count": 17,
     "metadata": {},
     "output_type": "execute_result"
    }
   ],
   "source": [
    "# Vector of the first document\n",
    "modelDoc2Vec.infer_vector(tagDocs[0].words)"
   ]
  },
  {
   "cell_type": "code",
   "execution_count": 18,
   "id": "204eee09",
   "metadata": {
    "scrolled": false
   },
   "outputs": [
    {
     "data": {
      "text/plain": [
       "0    [0.13474539, -0.30156022, 0.014730556, -0.0655...\n",
       "1    [0.26257446, -0.5316987, -0.023668356, -0.5169...\n",
       "2    [0.12866974, -0.26300073, 0.6015844, -0.201791...\n",
       "3    [0.042556852, 0.030388653, 0.0549632, -0.08883...\n",
       "4    [-0.00035672277, 0.05945972, 0.08832626, -0.21...\n",
       "Name: doc2vec, dtype: object"
      ]
     },
     "execution_count": 18,
     "metadata": {},
     "output_type": "execute_result"
    }
   ],
   "source": [
    "data['doc2vec'] = data.apply(lambda x: modelDoc2Vec.dv[x.name], axis=1)\n",
    "data['doc2vec'].head()"
   ]
  },
  {
   "cell_type": "markdown",
   "id": "6bb54513",
   "metadata": {},
   "source": [
    "### Doc2Vec w/o neutral words"
   ]
  },
  {
   "cell_type": "code",
   "execution_count": 19,
   "id": "4130f371",
   "metadata": {},
   "outputs": [],
   "source": [
    "from nltk.corpus import wordnet as wn\n",
    "from nltk.corpus import sentiwordnet as swn\n",
    "\n",
    "def wn_pos_tag(tag):\n",
    "    \"\"\"\n",
    "    tag: string indicating the tag retrieved by nltk\n",
    "    Map nltk tag into wordnet tag.\n",
    "    \"\"\"\n",
    "    \n",
    "    if tag.startswith('J'):\n",
    "        return wn.ADJ\n",
    "    elif tag.startswith('V'):\n",
    "        return wn.VERB\n",
    "    elif tag.startswith('N'):\n",
    "        return wn.NOUN\n",
    "    elif tag.startswith('R'):\n",
    "        return wn.ADV\n",
    "    else:\n",
    "        return ''\n",
    "\n",
    "def polarity(token, tag):\n",
    "    \"\"\"\n",
    "    token: word\n",
    "    tag: wordnet position tag\n",
    "    Check the polarity of a word according to SentiWordNet.\n",
    "    \"\"\"\n",
    "    \n",
    "    try:\n",
    "        ss = swn.senti_synset(token.lower() + '.' + tag + '.01')\n",
    "        pol_values = (ss.pos_score(), ss.neg_score(), ss.obj_score())\n",
    "    except:\n",
    "        pol_values = (0, 0, 0)\n",
    "        \n",
    "    return pol_values"
   ]
  },
  {
   "cell_type": "code",
   "execution_count": 20,
   "id": "969a7e76",
   "metadata": {},
   "outputs": [],
   "source": [
    "def polarity_check(sentence):\n",
    "    \"\"\"\n",
    "    sentence: list of strings (words)\n",
    "    Given a sentence, check which of the words is neutral\n",
    "    and discard it.\n",
    "    \"\"\"\n",
    "    \n",
    "    tokens = nltk.pos_tag(sentence)\n",
    "    sent_words = []\n",
    "    \n",
    "    for token, tag in tokens:\n",
    "        tag = wn_pos_tag(tag)\n",
    "        pol_values = polarity(token, tag)\n",
    "        \n",
    "        # Check if the word has a greater objective score\n",
    "        if (pol_values[2] >= pol_values[1]) & (pol_values[2] >= pol_values[0]):\n",
    "            continue\n",
    "        \n",
    "        sent_words.append(token)\n",
    "        \n",
    "    return sent_words"
   ]
  },
  {
   "cell_type": "code",
   "execution_count": 21,
   "id": "d2e06f43",
   "metadata": {
    "scrolled": true
   },
   "outputs": [
    {
     "data": {
      "application/vnd.jupyter.widget-view+json": {
       "model_id": "51fd4632e4a2418d9035c42442df7463",
       "version_major": 2,
       "version_minor": 0
      },
      "text/plain": [
       "  0%|          | 0/10325 [00:00<?, ?it/s]"
      ]
     },
     "metadata": {},
     "output_type": "display_data"
    },
    {
     "data": {
      "text/plain": [
       "0                         [not]\n",
       "1    [other, other, good, good]\n",
       "2                     [however]\n",
       "3                            []\n",
       "4                            []\n",
       "Name: sent_words, dtype: object"
      ]
     },
     "execution_count": 21,
     "metadata": {},
     "output_type": "execute_result"
    }
   ],
   "source": [
    "data['sent_words'] = data['tokens'].progress_apply(lambda x: polarity_check(x))\n",
    "data['sent_words'].head()"
   ]
  },
  {
   "cell_type": "code",
   "execution_count": 22,
   "id": "bfb458d1",
   "metadata": {},
   "outputs": [
    {
     "data": {
      "text/plain": [
       "0    [-0.012546806, -0.008351298, -0.021624334, 0.0...\n",
       "1    [-0.003872214, 4.819216e-05, -0.013426666, -0....\n",
       "2    [0.0068667415, -0.04351351, 0.00440728, 0.0674...\n",
       "3    [-0.006571603, 0.019242125, 0.014944697, -0.01...\n",
       "4    [-0.015749183, -0.01840879, 0.016828537, -0.00...\n",
       "Name: doc2vec_no_neutral, dtype: object"
      ]
     },
     "execution_count": 22,
     "metadata": {},
     "output_type": "execute_result"
    }
   ],
   "source": [
    "# Apply Doc2Vec to the sentences w/o neutral words\n",
    "tagDocs2 = list(data.apply(lambda x: doc2vec.TaggedDocument(x.sent_words, [x.name]), axis=1))\n",
    "modelDoc2Vec2 = doc2vec.Doc2Vec(vector_size=50, min_count=2, epochs=40)\n",
    "modelDoc2Vec2.build_vocab(tagDocs2)\n",
    "modelDoc2Vec2.train(tagDocs2, total_examples=modelDoc2Vec2.corpus_count, epochs=modelDoc2Vec2.epochs)\n",
    "data['doc2vec_no_neutral'] = data.apply(lambda x: modelDoc2Vec2.dv[x.name], axis=1)\n",
    "data['doc2vec_no_neutral'].head()"
   ]
  },
  {
   "cell_type": "markdown",
   "id": "058de1d8",
   "metadata": {},
   "source": [
    "## Regression Model"
   ]
  },
  {
   "cell_type": "markdown",
   "id": "fceec1e6",
   "metadata": {},
   "source": [
    "### Model 1 (Word2Vec)"
   ]
  },
  {
   "cell_type": "code",
   "execution_count": 23,
   "id": "386e9f28",
   "metadata": {
    "scrolled": false
   },
   "outputs": [],
   "source": [
    "import tensorflow\n",
    "import keras\n",
    "from keras.models import Sequential\n",
    "from keras.layers import Dense, Dropout, LeakyReLU\n",
    "from tensorflow.keras import initializers\n",
    "\n",
    "# Define a baseline model in keras\n",
    "def baseline_model():\n",
    "    model = Sequential()\n",
    "    model.add(Dense(16, input_dim=300, kernel_initializer='he_normal'))\n",
    "    model.add(LeakyReLU(alpha=0.01))\n",
    "    model.add(Dropout(0.5))\n",
    "    model.add(Dense(8, kernel_initializer='he_normal'))\n",
    "    model.add(LeakyReLU(alpha=0.01))\n",
    "    model.add(Dropout(0.5))\n",
    "    model.add(Dense(3, activation='linear'))\n",
    "\n",
    "    model.compile(loss='mse', optimizer='adam')\n",
    "    \n",
    "    return model"
   ]
  },
  {
   "cell_type": "code",
   "execution_count": 24,
   "id": "dacaaf85",
   "metadata": {
    "scrolled": true
   },
   "outputs": [],
   "source": [
    "# Define variables\n",
    "X = pd.DataFrame(data['word2vec'].values.tolist())\n",
    "y = data[['V', 'A', 'D']]"
   ]
  },
  {
   "cell_type": "code",
   "execution_count": 25,
   "id": "c6bb82aa",
   "metadata": {},
   "outputs": [],
   "source": [
    "from keras.wrappers.scikit_learn import KerasRegressor\n",
    "from sklearn.model_selection import cross_val_score\n",
    "from sklearn.model_selection import KFold\n",
    "\n",
    "model = KerasRegressor(build_fn=baseline_model, epochs=100, batch_size=10, verbose=0)\n",
    "kfold = KFold(n_splits=5)\n",
    "scores = cross_val_score(model, X, y, cv=kfold)"
   ]
  },
  {
   "cell_type": "code",
   "execution_count": 26,
   "id": "629ecb32",
   "metadata": {},
   "outputs": [
    {
     "name": "stdout",
     "output_type": "stream",
     "text": [
      "MSE: 0.02651027888059616\n"
     ]
    }
   ],
   "source": [
    "print('MSE:', -scores.mean())"
   ]
  },
  {
   "cell_type": "code",
   "execution_count": 27,
   "id": "ef7ed61d",
   "metadata": {
    "scrolled": true
   },
   "outputs": [
    {
     "data": {
      "text/plain": [
       "<keras.callbacks.History at 0x7f7f5627b040>"
      ]
     },
     "execution_count": 27,
     "metadata": {},
     "output_type": "execute_result"
    }
   ],
   "source": [
    "model.fit(X, y)"
   ]
  },
  {
   "cell_type": "markdown",
   "id": "e650417a",
   "metadata": {},
   "source": [
    "### Model 2 (Doc2Vec)"
   ]
  },
  {
   "cell_type": "code",
   "execution_count": 28,
   "id": "64156dd0",
   "metadata": {},
   "outputs": [
    {
     "name": "stdout",
     "output_type": "stream",
     "text": [
      "MSE: 0.03020787611603737\n"
     ]
    }
   ],
   "source": [
    "def baseline_model2():\n",
    "    model = Sequential()\n",
    "    model.add(Dense(16, input_dim=50, kernel_initializer='he_normal'))\n",
    "    model.add(LeakyReLU(alpha=0.01))\n",
    "    model.add(Dropout(0.5))\n",
    "    model.add(Dense(8, kernel_initializer='he_normal'))\n",
    "    model.add(LeakyReLU(alpha=0.01))\n",
    "    model.add(Dropout(0.5))\n",
    "    model.add(Dense(3, activation='linear'))\n",
    "\n",
    "    model.compile(loss='mse', optimizer='adam')\n",
    "    \n",
    "    return model\n",
    "\n",
    "X = pd.DataFrame(data['doc2vec'].values.tolist())\n",
    "model2 = KerasRegressor(build_fn=baseline_model2, epochs=100, batch_size=10, verbose=0)\n",
    "scores2 = cross_val_score(model2, X, y, cv=kfold)\n",
    "print('MSE:', -scores2.mean())"
   ]
  },
  {
   "cell_type": "code",
   "execution_count": 29,
   "id": "363cb5ad",
   "metadata": {},
   "outputs": [
    {
     "data": {
      "text/plain": [
       "<keras.callbacks.History at 0x7f7f53c06670>"
      ]
     },
     "execution_count": 29,
     "metadata": {},
     "output_type": "execute_result"
    }
   ],
   "source": [
    "model2.fit(X, y)"
   ]
  },
  {
   "cell_type": "markdown",
   "id": "27557e2e",
   "metadata": {},
   "source": [
    "### Model 3 (Doc2Vec w/o neutral words)"
   ]
  },
  {
   "cell_type": "code",
   "execution_count": 30,
   "id": "5aea8cfc",
   "metadata": {
    "scrolled": true
   },
   "outputs": [
    {
     "name": "stdout",
     "output_type": "stream",
     "text": [
      "MSE: 0.03117205761373043\n"
     ]
    }
   ],
   "source": [
    "X = pd.DataFrame(data['doc2vec_no_neutral'].values.tolist())\n",
    "model3 = KerasRegressor(build_fn=baseline_model2, epochs=100, batch_size=10, verbose=0)\n",
    "scores3 = cross_val_score(model3, X, y, cv=kfold)\n",
    "print('MSE:', -scores3.mean())"
   ]
  },
  {
   "cell_type": "code",
   "execution_count": 31,
   "id": "6f45080b",
   "metadata": {},
   "outputs": [
    {
     "data": {
      "text/plain": [
       "<keras.callbacks.History at 0x7f806bf6ad00>"
      ]
     },
     "execution_count": 31,
     "metadata": {},
     "output_type": "execute_result"
    }
   ],
   "source": [
    "model3.fit(X, y)"
   ]
  },
  {
   "cell_type": "markdown",
   "id": "ea8441f7",
   "metadata": {},
   "source": [
    "## VAD to Categories"
   ]
  },
  {
   "cell_type": "markdown",
   "id": "1f4188ab",
   "metadata": {},
   "source": [
    "### 1st approach"
   ]
  },
  {
   "cell_type": "code",
   "execution_count": 32,
   "id": "afb05d78",
   "metadata": {},
   "outputs": [],
   "source": [
    "# Importing SemEval datasets\n",
    "path2 = 'Data/AffectiveText.Semeval.2007/'\n",
    "\n",
    "sem_eval1 = pd.read_csv(path2+'AffectiveText.trial/affectivetext_trial.emotions.gold', \n",
    "                        header=None, sep=' ', index_col=0)\n",
    "sem_eval2 = pd.read_csv(path2+'AffectiveText.test/affectivetext_test.emotions.gold', \n",
    "                        header=None, sep=' ', index_col=0)"
   ]
  },
  {
   "cell_type": "code",
   "execution_count": 33,
   "id": "0afd616f",
   "metadata": {},
   "outputs": [],
   "source": [
    "# Renaming columns\n",
    "sem_eval_em = pd.concat([sem_eval1, sem_eval2]).rename(columns={0:'id', 1:'anger', 2:'disgust', \n",
    "                                                                3:'fear', 4:'joy', 5:'sadness', \n",
    "                                                                6:'surprise'})\n",
    "sem_eval_em.index.name = None"
   ]
  },
  {
   "cell_type": "code",
   "execution_count": 34,
   "id": "d4255c42",
   "metadata": {},
   "outputs": [
    {
     "data": {
      "text/html": [
       "<div>\n",
       "<style scoped>\n",
       "    .dataframe tbody tr th:only-of-type {\n",
       "        vertical-align: middle;\n",
       "    }\n",
       "\n",
       "    .dataframe tbody tr th {\n",
       "        vertical-align: top;\n",
       "    }\n",
       "\n",
       "    .dataframe thead th {\n",
       "        text-align: right;\n",
       "    }\n",
       "</style>\n",
       "<table border=\"1\" class=\"dataframe\">\n",
       "  <thead>\n",
       "    <tr style=\"text-align: right;\">\n",
       "      <th></th>\n",
       "      <th>anger</th>\n",
       "      <th>disgust</th>\n",
       "      <th>fear</th>\n",
       "      <th>joy</th>\n",
       "      <th>sadness</th>\n",
       "      <th>surprise</th>\n",
       "    </tr>\n",
       "  </thead>\n",
       "  <tbody>\n",
       "    <tr>\n",
       "      <th>1</th>\n",
       "      <td>22</td>\n",
       "      <td>2</td>\n",
       "      <td>60</td>\n",
       "      <td>0</td>\n",
       "      <td>64</td>\n",
       "      <td>0</td>\n",
       "    </tr>\n",
       "    <tr>\n",
       "      <th>2</th>\n",
       "      <td>0</td>\n",
       "      <td>0</td>\n",
       "      <td>0</td>\n",
       "      <td>93</td>\n",
       "      <td>0</td>\n",
       "      <td>38</td>\n",
       "    </tr>\n",
       "    <tr>\n",
       "      <th>3</th>\n",
       "      <td>18</td>\n",
       "      <td>0</td>\n",
       "      <td>52</td>\n",
       "      <td>66</td>\n",
       "      <td>20</td>\n",
       "      <td>65</td>\n",
       "    </tr>\n",
       "    <tr>\n",
       "      <th>4</th>\n",
       "      <td>66</td>\n",
       "      <td>39</td>\n",
       "      <td>94</td>\n",
       "      <td>0</td>\n",
       "      <td>86</td>\n",
       "      <td>0</td>\n",
       "    </tr>\n",
       "    <tr>\n",
       "      <th>5</th>\n",
       "      <td>0</td>\n",
       "      <td>0</td>\n",
       "      <td>25</td>\n",
       "      <td>26</td>\n",
       "      <td>2</td>\n",
       "      <td>46</td>\n",
       "    </tr>\n",
       "  </tbody>\n",
       "</table>\n",
       "</div>"
      ],
      "text/plain": [
       "   anger  disgust  fear  joy  sadness  surprise\n",
       "1     22        2    60    0       64         0\n",
       "2      0        0     0   93        0        38\n",
       "3     18        0    52   66       20        65\n",
       "4     66       39    94    0       86         0\n",
       "5      0        0    25   26        2        46"
      ]
     },
     "execution_count": 34,
     "metadata": {},
     "output_type": "execute_result"
    }
   ],
   "source": [
    "sem_eval_em.head()"
   ]
  },
  {
   "cell_type": "code",
   "execution_count": 35,
   "id": "89edd257",
   "metadata": {},
   "outputs": [
    {
     "data": {
      "text/html": [
       "<div>\n",
       "<style scoped>\n",
       "    .dataframe tbody tr th:only-of-type {\n",
       "        vertical-align: middle;\n",
       "    }\n",
       "\n",
       "    .dataframe tbody tr th {\n",
       "        vertical-align: top;\n",
       "    }\n",
       "\n",
       "    .dataframe thead th {\n",
       "        text-align: right;\n",
       "    }\n",
       "</style>\n",
       "<table border=\"1\" class=\"dataframe\">\n",
       "  <thead>\n",
       "    <tr style=\"text-align: right;\">\n",
       "      <th></th>\n",
       "      <th>id</th>\n",
       "      <th>text</th>\n",
       "      <th>V</th>\n",
       "      <th>A</th>\n",
       "      <th>D</th>\n",
       "      <th>document</th>\n",
       "      <th>category</th>\n",
       "    </tr>\n",
       "  </thead>\n",
       "  <tbody>\n",
       "    <tr>\n",
       "      <th>0</th>\n",
       "      <td>Acephalous-Cant-believe_4_47</td>\n",
       "      <td>I can't believe I wrote all that last year.</td>\n",
       "      <td>3.1</td>\n",
       "      <td>3.4</td>\n",
       "      <td>3.1</td>\n",
       "      <td>Acephalous-Cant-believe</td>\n",
       "      <td>blog</td>\n",
       "    </tr>\n",
       "    <tr>\n",
       "      <th>1</th>\n",
       "      <td>Acephalous-Cant-believe_83_354</td>\n",
       "      <td>Because I've been grading all damn day and am ...</td>\n",
       "      <td>2.5</td>\n",
       "      <td>3.5</td>\n",
       "      <td>3.5</td>\n",
       "      <td>Acephalous-Cant-believe</td>\n",
       "      <td>blog</td>\n",
       "    </tr>\n",
       "    <tr>\n",
       "      <th>2</th>\n",
       "      <td>Acephalous-Cant-believe_355_499</td>\n",
       "      <td>However, when I started looking through my arc...</td>\n",
       "      <td>3.5</td>\n",
       "      <td>3.2</td>\n",
       "      <td>3.5</td>\n",
       "      <td>Acephalous-Cant-believe</td>\n",
       "      <td>blog</td>\n",
       "    </tr>\n",
       "    <tr>\n",
       "      <th>3</th>\n",
       "      <td>Acephalous-Cant-believe_500_515</td>\n",
       "      <td>What do I mean?</td>\n",
       "      <td>3.0</td>\n",
       "      <td>3.1</td>\n",
       "      <td>2.9</td>\n",
       "      <td>Acephalous-Cant-believe</td>\n",
       "      <td>blog</td>\n",
       "    </tr>\n",
       "    <tr>\n",
       "      <th>4</th>\n",
       "      <td>Acephalous-Cant-believe_517_626</td>\n",
       "      <td>The posts I consider foundational to my curren...</td>\n",
       "      <td>3.0</td>\n",
       "      <td>3.0</td>\n",
       "      <td>3.1</td>\n",
       "      <td>Acephalous-Cant-believe</td>\n",
       "      <td>blog</td>\n",
       "    </tr>\n",
       "  </tbody>\n",
       "</table>\n",
       "</div>"
      ],
      "text/plain": [
       "                                id  \\\n",
       "0     Acephalous-Cant-believe_4_47   \n",
       "1   Acephalous-Cant-believe_83_354   \n",
       "2  Acephalous-Cant-believe_355_499   \n",
       "3  Acephalous-Cant-believe_500_515   \n",
       "4  Acephalous-Cant-believe_517_626   \n",
       "\n",
       "                                                text    V    A    D  \\\n",
       "0        I can't believe I wrote all that last year.  3.1  3.4  3.1   \n",
       "1  Because I've been grading all damn day and am ...  2.5  3.5  3.5   \n",
       "2  However, when I started looking through my arc...  3.5  3.2  3.5   \n",
       "3                                    What do I mean?  3.0  3.1  2.9   \n",
       "4  The posts I consider foundational to my curren...  3.0  3.0  3.1   \n",
       "\n",
       "                  document category  \n",
       "0  Acephalous-Cant-believe     blog  \n",
       "1  Acephalous-Cant-believe     blog  \n",
       "2  Acephalous-Cant-believe     blog  \n",
       "3  Acephalous-Cant-believe     blog  \n",
       "4  Acephalous-Cant-believe     blog  "
      ]
     },
     "execution_count": 35,
     "metadata": {},
     "output_type": "execute_result"
    }
   ],
   "source": [
    "# Importing EmoBank dataset to perform analysis on mixed values\n",
    "emobank = pd.read_csv(path+'emobank.csv') # EmoBank\n",
    "emobank = emobank.iloc[:, [0, 2, 3, 4]]\n",
    "\n",
    "# Merging dataframes\n",
    "dfs = [raw, emobank, meta]\n",
    "emobank = reduce(lambda  left, right: pd.merge(left, right, on=['id']), dfs)\n",
    "emobank.head()"
   ]
  },
  {
   "cell_type": "code",
   "execution_count": 36,
   "id": "7b40b78c",
   "metadata": {},
   "outputs": [
    {
     "data": {
      "text/html": [
       "<div>\n",
       "<style scoped>\n",
       "    .dataframe tbody tr th:only-of-type {\n",
       "        vertical-align: middle;\n",
       "    }\n",
       "\n",
       "    .dataframe tbody tr th {\n",
       "        vertical-align: top;\n",
       "    }\n",
       "\n",
       "    .dataframe thead th {\n",
       "        text-align: right;\n",
       "    }\n",
       "</style>\n",
       "<table border=\"1\" class=\"dataframe\">\n",
       "  <thead>\n",
       "    <tr style=\"text-align: right;\">\n",
       "      <th></th>\n",
       "      <th>V</th>\n",
       "      <th>A</th>\n",
       "      <th>D</th>\n",
       "    </tr>\n",
       "  </thead>\n",
       "  <tbody>\n",
       "    <tr>\n",
       "      <th>1</th>\n",
       "      <td>2.29</td>\n",
       "      <td>3.29</td>\n",
       "      <td>2.86</td>\n",
       "    </tr>\n",
       "    <tr>\n",
       "      <th>2</th>\n",
       "      <td>3.70</td>\n",
       "      <td>2.90</td>\n",
       "      <td>3.10</td>\n",
       "    </tr>\n",
       "    <tr>\n",
       "      <th>3</th>\n",
       "      <td>3.50</td>\n",
       "      <td>3.40</td>\n",
       "      <td>3.30</td>\n",
       "    </tr>\n",
       "    <tr>\n",
       "      <th>4</th>\n",
       "      <td>2.11</td>\n",
       "      <td>3.11</td>\n",
       "      <td>3.00</td>\n",
       "    </tr>\n",
       "    <tr>\n",
       "      <th>5</th>\n",
       "      <td>3.22</td>\n",
       "      <td>3.44</td>\n",
       "      <td>3.44</td>\n",
       "    </tr>\n",
       "  </tbody>\n",
       "</table>\n",
       "</div>"
      ],
      "text/plain": [
       "      V     A     D\n",
       "1  2.29  3.29  2.86\n",
       "2  3.70  2.90  3.10\n",
       "3  3.50  3.40  3.30\n",
       "4  2.11  3.11  3.00\n",
       "5  3.22  3.44  3.44"
      ]
     },
     "execution_count": 36,
     "metadata": {},
     "output_type": "execute_result"
    }
   ],
   "source": [
    "# Retrieving SemEval data from EmoBank\n",
    "sem_eval_vad = emobank[emobank['category']=='SemEval'].iloc[:, [0, 2, 3, 4]]\n",
    "\n",
    "# Recreating same index as sem_eval_em\n",
    "sem_eval_vad['id'] = sem_eval_vad['id'].apply(lambda x: x.replace('SemEval_', ''))\n",
    "sem_eval_vad.set_index('id', inplace=True)\n",
    "sem_eval_vad.index.name = None\n",
    "sem_eval_vad.index = sem_eval_vad.index.astype('int64')\n",
    "\n",
    "sem_eval_vad.head()"
   ]
  },
  {
   "cell_type": "code",
   "execution_count": 37,
   "id": "8c6d8192",
   "metadata": {},
   "outputs": [
    {
     "data": {
      "text/html": [
       "<div>\n",
       "<style scoped>\n",
       "    .dataframe tbody tr th:only-of-type {\n",
       "        vertical-align: middle;\n",
       "    }\n",
       "\n",
       "    .dataframe tbody tr th {\n",
       "        vertical-align: top;\n",
       "    }\n",
       "\n",
       "    .dataframe thead th {\n",
       "        text-align: right;\n",
       "    }\n",
       "</style>\n",
       "<table border=\"1\" class=\"dataframe\">\n",
       "  <thead>\n",
       "    <tr style=\"text-align: right;\">\n",
       "      <th></th>\n",
       "      <th>V</th>\n",
       "      <th>A</th>\n",
       "      <th>D</th>\n",
       "      <th>anger</th>\n",
       "      <th>disgust</th>\n",
       "      <th>fear</th>\n",
       "      <th>joy</th>\n",
       "      <th>sadness</th>\n",
       "      <th>surprise</th>\n",
       "    </tr>\n",
       "  </thead>\n",
       "  <tbody>\n",
       "    <tr>\n",
       "      <th>1</th>\n",
       "      <td>2.29</td>\n",
       "      <td>3.29</td>\n",
       "      <td>2.86</td>\n",
       "      <td>22</td>\n",
       "      <td>2</td>\n",
       "      <td>60</td>\n",
       "      <td>0</td>\n",
       "      <td>64</td>\n",
       "      <td>0</td>\n",
       "    </tr>\n",
       "    <tr>\n",
       "      <th>2</th>\n",
       "      <td>3.70</td>\n",
       "      <td>2.90</td>\n",
       "      <td>3.10</td>\n",
       "      <td>0</td>\n",
       "      <td>0</td>\n",
       "      <td>0</td>\n",
       "      <td>93</td>\n",
       "      <td>0</td>\n",
       "      <td>38</td>\n",
       "    </tr>\n",
       "    <tr>\n",
       "      <th>3</th>\n",
       "      <td>3.50</td>\n",
       "      <td>3.40</td>\n",
       "      <td>3.30</td>\n",
       "      <td>18</td>\n",
       "      <td>0</td>\n",
       "      <td>52</td>\n",
       "      <td>66</td>\n",
       "      <td>20</td>\n",
       "      <td>65</td>\n",
       "    </tr>\n",
       "    <tr>\n",
       "      <th>4</th>\n",
       "      <td>2.11</td>\n",
       "      <td>3.11</td>\n",
       "      <td>3.00</td>\n",
       "      <td>66</td>\n",
       "      <td>39</td>\n",
       "      <td>94</td>\n",
       "      <td>0</td>\n",
       "      <td>86</td>\n",
       "      <td>0</td>\n",
       "    </tr>\n",
       "    <tr>\n",
       "      <th>5</th>\n",
       "      <td>3.22</td>\n",
       "      <td>3.44</td>\n",
       "      <td>3.44</td>\n",
       "      <td>0</td>\n",
       "      <td>0</td>\n",
       "      <td>25</td>\n",
       "      <td>26</td>\n",
       "      <td>2</td>\n",
       "      <td>46</td>\n",
       "    </tr>\n",
       "  </tbody>\n",
       "</table>\n",
       "</div>"
      ],
      "text/plain": [
       "      V     A     D  anger  disgust  fear  joy  sadness  surprise\n",
       "1  2.29  3.29  2.86     22        2    60    0       64         0\n",
       "2  3.70  2.90  3.10      0        0     0   93        0        38\n",
       "3  3.50  3.40  3.30     18        0    52   66       20        65\n",
       "4  2.11  3.11  3.00     66       39    94    0       86         0\n",
       "5  3.22  3.44  3.44      0        0    25   26        2        46"
      ]
     },
     "execution_count": 37,
     "metadata": {},
     "output_type": "execute_result"
    }
   ],
   "source": [
    "# Merge VAD values with Emotions' ones\n",
    "sem_eval = pd.merge(sem_eval_vad, sem_eval_em, left_index=True, right_index=True)\n",
    "sem_eval.head()"
   ]
  },
  {
   "cell_type": "code",
   "execution_count": 38,
   "id": "6fd68854",
   "metadata": {},
   "outputs": [],
   "source": [
    "# Train and test split for regression task\n",
    "from sklearn.model_selection import train_test_split\n",
    "\n",
    "X, y = np.split(sem_eval, [3], axis=1)\n",
    "X_train, X_test, y_train, y_test = train_test_split(X, y, test_size=0.20, shuffle=True, random_state=123)"
   ]
  },
  {
   "cell_type": "code",
   "execution_count": 39,
   "id": "eda6bc86",
   "metadata": {},
   "outputs": [
    {
     "data": {
      "text/plain": [
       "(0.8226080089381597, -0.3403314852008215)"
      ]
     },
     "execution_count": 39,
     "metadata": {},
     "output_type": "execute_result"
    }
   ],
   "source": [
    "# Decision Tree Regression\n",
    "from sklearn.tree import DecisionTreeRegressor\n",
    "\n",
    "regTree = DecisionTreeRegressor().fit(X_train, y_train)\n",
    "regTree.score(X_train, y_train), regTree.score(X_test, y_test)"
   ]
  },
  {
   "cell_type": "code",
   "execution_count": 40,
   "id": "53d41f74",
   "metadata": {},
   "outputs": [
    {
     "data": {
      "text/plain": [
       "(54.0302513782708, 383.05900725655215)"
      ]
     },
     "execution_count": 40,
     "metadata": {},
     "output_type": "execute_result"
    }
   ],
   "source": [
    "# MSE for Decision Tree Regression\n",
    "from sklearn.metrics import mean_squared_error\n",
    "\n",
    "mean_squared_error(y_train, regTree.predict(X_train)), mean_squared_error(y_test, regTree.predict(X_test))"
   ]
  },
  {
   "cell_type": "code",
   "execution_count": 41,
   "id": "b2c22e1f",
   "metadata": {},
   "outputs": [
    {
     "data": {
      "text/html": [
       "<div>\n",
       "<style scoped>\n",
       "    .dataframe tbody tr th:only-of-type {\n",
       "        vertical-align: middle;\n",
       "    }\n",
       "\n",
       "    .dataframe tbody tr th {\n",
       "        vertical-align: top;\n",
       "    }\n",
       "\n",
       "    .dataframe thead th {\n",
       "        text-align: right;\n",
       "    }\n",
       "</style>\n",
       "<table border=\"1\" class=\"dataframe\">\n",
       "  <thead>\n",
       "    <tr style=\"text-align: right;\">\n",
       "      <th></th>\n",
       "      <th>V</th>\n",
       "      <th>A</th>\n",
       "      <th>D</th>\n",
       "      <th>anger</th>\n",
       "      <th>disgust</th>\n",
       "      <th>fear</th>\n",
       "      <th>joy</th>\n",
       "      <th>sadness</th>\n",
       "      <th>surprise</th>\n",
       "    </tr>\n",
       "  </thead>\n",
       "  <tbody>\n",
       "    <tr>\n",
       "      <th>1</th>\n",
       "      <td>2.29</td>\n",
       "      <td>3.29</td>\n",
       "      <td>2.86</td>\n",
       "      <td>0</td>\n",
       "      <td>0</td>\n",
       "      <td>1</td>\n",
       "      <td>0</td>\n",
       "      <td>1</td>\n",
       "      <td>0</td>\n",
       "    </tr>\n",
       "    <tr>\n",
       "      <th>2</th>\n",
       "      <td>3.70</td>\n",
       "      <td>2.90</td>\n",
       "      <td>3.10</td>\n",
       "      <td>0</td>\n",
       "      <td>0</td>\n",
       "      <td>0</td>\n",
       "      <td>1</td>\n",
       "      <td>0</td>\n",
       "      <td>0</td>\n",
       "    </tr>\n",
       "    <tr>\n",
       "      <th>3</th>\n",
       "      <td>3.50</td>\n",
       "      <td>3.40</td>\n",
       "      <td>3.30</td>\n",
       "      <td>0</td>\n",
       "      <td>0</td>\n",
       "      <td>1</td>\n",
       "      <td>1</td>\n",
       "      <td>0</td>\n",
       "      <td>1</td>\n",
       "    </tr>\n",
       "    <tr>\n",
       "      <th>4</th>\n",
       "      <td>2.11</td>\n",
       "      <td>3.11</td>\n",
       "      <td>3.00</td>\n",
       "      <td>1</td>\n",
       "      <td>0</td>\n",
       "      <td>1</td>\n",
       "      <td>0</td>\n",
       "      <td>1</td>\n",
       "      <td>0</td>\n",
       "    </tr>\n",
       "    <tr>\n",
       "      <th>5</th>\n",
       "      <td>3.22</td>\n",
       "      <td>3.44</td>\n",
       "      <td>3.44</td>\n",
       "      <td>0</td>\n",
       "      <td>0</td>\n",
       "      <td>0</td>\n",
       "      <td>0</td>\n",
       "      <td>0</td>\n",
       "      <td>0</td>\n",
       "    </tr>\n",
       "  </tbody>\n",
       "</table>\n",
       "</div>"
      ],
      "text/plain": [
       "      V     A     D  anger  disgust  fear  joy  sadness  surprise\n",
       "1  2.29  3.29  2.86      0        0     1    0        1         0\n",
       "2  3.70  2.90  3.10      0        0     0    1        0         0\n",
       "3  3.50  3.40  3.30      0        0     1    1        0         1\n",
       "4  2.11  3.11  3.00      1        0     1    0        1         0\n",
       "5  3.22  3.44  3.44      0        0     0    0        0         0"
      ]
     },
     "execution_count": 41,
     "metadata": {},
     "output_type": "execute_result"
    }
   ],
   "source": [
    "# One-hot encode continuous value according to a given threshold (presence/non-presence of emotion)\n",
    "sem_eval_em_oh = sem_eval_em >= 50\n",
    "sem_eval_em_oh = sem_eval_em_oh.astype('int')\n",
    "sem_eval = pd.merge(sem_eval_vad, sem_eval_em_oh, left_index=True, right_index=True)\n",
    "sem_eval.head()"
   ]
  },
  {
   "cell_type": "code",
   "execution_count": 42,
   "id": "126e0f66",
   "metadata": {},
   "outputs": [],
   "source": [
    "# Train and test split for classification task\n",
    "X, y = np.split(sem_eval, [3], axis=1)\n",
    "X_train, X_test, y_train, y_test = train_test_split(X, y, test_size=0.20, shuffle=True, random_state=123)"
   ]
  },
  {
   "cell_type": "code",
   "execution_count": 43,
   "id": "e7d74443",
   "metadata": {},
   "outputs": [
    {
     "data": {
      "text/plain": [
       "(0.8982161594963274, 0.5606694560669456)"
      ]
     },
     "execution_count": 43,
     "metadata": {},
     "output_type": "execute_result"
    }
   ],
   "source": [
    "# Decision Tree Classifier\n",
    "from sklearn.tree import DecisionTreeClassifier\n",
    "\n",
    "tree = DecisionTreeClassifier(criterion='entropy', random_state=123).fit(X_train, y_train)\n",
    "tree.score(X_train, y_train), tree.score(X_test, y_test)"
   ]
  },
  {
   "cell_type": "code",
   "execution_count": 44,
   "id": "f9354e9c",
   "metadata": {},
   "outputs": [
    {
     "data": {
      "text/plain": [
       "(0.5606694560669456,\n",
       " array([0.25      , 0.        , 0.08695652, 0.3       , 0.41935484,\n",
       "        0.1       ]),\n",
       " array([0.11111111, 0.        , 0.08333333, 0.52941176, 0.65      ,\n",
       "        0.09090909]),\n",
       " array([0.15384615, 0.        , 0.08510638, 0.38297872, 0.50980392,\n",
       "        0.0952381 ]))"
      ]
     },
     "execution_count": 44,
     "metadata": {},
     "output_type": "execute_result"
    }
   ],
   "source": [
    "# Evaluation metrics\n",
    "from sklearn.metrics import accuracy_score, recall_score, precision_score, f1_score\n",
    "\n",
    "y_pred = tree.predict(X_test)\n",
    "\n",
    "accuracy_score(y_test, y_pred), \\\n",
    "recall_score(y_test, y_pred, average=None), \\\n",
    "precision_score(y_test, y_pred, average=None), \\\n",
    "f1_score(y_test, y_pred, average=None)"
   ]
  },
  {
   "cell_type": "code",
   "execution_count": 45,
   "id": "64b3bddd",
   "metadata": {},
   "outputs": [
    {
     "data": {
      "text/plain": [
       "array([[227,   8],\n",
       "       [  3,   1]])"
      ]
     },
     "execution_count": 45,
     "metadata": {},
     "output_type": "execute_result"
    }
   ],
   "source": [
    "# Confusion matrix\n",
    "from sklearn.metrics import confusion_matrix\n",
    "\n",
    "confusion_matrix(y_test.iloc[:, 0], y_pred[:, 0])"
   ]
  },
  {
   "cell_type": "markdown",
   "id": "b8ed6027",
   "metadata": {},
   "source": [
    "### 2nd approach"
   ]
  },
  {
   "cell_type": "code",
   "execution_count": 46,
   "id": "42088847",
   "metadata": {},
   "outputs": [],
   "source": [
    "# Define Ekman's emotions coordinates in VAD space according to Mehrabian and Russell (1977)\n",
    "emo_coord = {\n",
    "    'anger': (-0.51, 0.59, 0.25),\n",
    "    'disgust': (-0.6, 0.35, 0.11),\n",
    "    'fear': (-0.64, 0.60, -0.43),\n",
    "    'joy': (0.74, 0.48, 0.35),\n",
    "    'sadness': (-0.63, -0.27, -0.33),\n",
    "    'surprise': (0.4, 0.67, -0.13)\n",
    "}"
   ]
  },
  {
   "cell_type": "code",
   "execution_count": 89,
   "id": "9ca01238",
   "metadata": {
    "scrolled": true
   },
   "outputs": [
    {
     "data": {
      "application/javascript": [
       "/* Put everything inside the global mpl namespace */\n",
       "/* global mpl */\n",
       "window.mpl = {};\n",
       "\n",
       "mpl.get_websocket_type = function () {\n",
       "    if (typeof WebSocket !== 'undefined') {\n",
       "        return WebSocket;\n",
       "    } else if (typeof MozWebSocket !== 'undefined') {\n",
       "        return MozWebSocket;\n",
       "    } else {\n",
       "        alert(\n",
       "            'Your browser does not have WebSocket support. ' +\n",
       "                'Please try Chrome, Safari or Firefox ≥ 6. ' +\n",
       "                'Firefox 4 and 5 are also supported but you ' +\n",
       "                'have to enable WebSockets in about:config.'\n",
       "        );\n",
       "    }\n",
       "};\n",
       "\n",
       "mpl.figure = function (figure_id, websocket, ondownload, parent_element) {\n",
       "    this.id = figure_id;\n",
       "\n",
       "    this.ws = websocket;\n",
       "\n",
       "    this.supports_binary = this.ws.binaryType !== undefined;\n",
       "\n",
       "    if (!this.supports_binary) {\n",
       "        var warnings = document.getElementById('mpl-warnings');\n",
       "        if (warnings) {\n",
       "            warnings.style.display = 'block';\n",
       "            warnings.textContent =\n",
       "                'This browser does not support binary websocket messages. ' +\n",
       "                'Performance may be slow.';\n",
       "        }\n",
       "    }\n",
       "\n",
       "    this.imageObj = new Image();\n",
       "\n",
       "    this.context = undefined;\n",
       "    this.message = undefined;\n",
       "    this.canvas = undefined;\n",
       "    this.rubberband_canvas = undefined;\n",
       "    this.rubberband_context = undefined;\n",
       "    this.format_dropdown = undefined;\n",
       "\n",
       "    this.image_mode = 'full';\n",
       "\n",
       "    this.root = document.createElement('div');\n",
       "    this.root.setAttribute('style', 'display: inline-block');\n",
       "    this._root_extra_style(this.root);\n",
       "\n",
       "    parent_element.appendChild(this.root);\n",
       "\n",
       "    this._init_header(this);\n",
       "    this._init_canvas(this);\n",
       "    this._init_toolbar(this);\n",
       "\n",
       "    var fig = this;\n",
       "\n",
       "    this.waiting = false;\n",
       "\n",
       "    this.ws.onopen = function () {\n",
       "        fig.send_message('supports_binary', { value: fig.supports_binary });\n",
       "        fig.send_message('send_image_mode', {});\n",
       "        if (fig.ratio !== 1) {\n",
       "            fig.send_message('set_dpi_ratio', { dpi_ratio: fig.ratio });\n",
       "        }\n",
       "        fig.send_message('refresh', {});\n",
       "    };\n",
       "\n",
       "    this.imageObj.onload = function () {\n",
       "        if (fig.image_mode === 'full') {\n",
       "            // Full images could contain transparency (where diff images\n",
       "            // almost always do), so we need to clear the canvas so that\n",
       "            // there is no ghosting.\n",
       "            fig.context.clearRect(0, 0, fig.canvas.width, fig.canvas.height);\n",
       "        }\n",
       "        fig.context.drawImage(fig.imageObj, 0, 0);\n",
       "    };\n",
       "\n",
       "    this.imageObj.onunload = function () {\n",
       "        fig.ws.close();\n",
       "    };\n",
       "\n",
       "    this.ws.onmessage = this._make_on_message_function(this);\n",
       "\n",
       "    this.ondownload = ondownload;\n",
       "};\n",
       "\n",
       "mpl.figure.prototype._init_header = function () {\n",
       "    var titlebar = document.createElement('div');\n",
       "    titlebar.classList =\n",
       "        'ui-dialog-titlebar ui-widget-header ui-corner-all ui-helper-clearfix';\n",
       "    var titletext = document.createElement('div');\n",
       "    titletext.classList = 'ui-dialog-title';\n",
       "    titletext.setAttribute(\n",
       "        'style',\n",
       "        'width: 100%; text-align: center; padding: 3px;'\n",
       "    );\n",
       "    titlebar.appendChild(titletext);\n",
       "    this.root.appendChild(titlebar);\n",
       "    this.header = titletext;\n",
       "};\n",
       "\n",
       "mpl.figure.prototype._canvas_extra_style = function (_canvas_div) {};\n",
       "\n",
       "mpl.figure.prototype._root_extra_style = function (_canvas_div) {};\n",
       "\n",
       "mpl.figure.prototype._init_canvas = function () {\n",
       "    var fig = this;\n",
       "\n",
       "    var canvas_div = (this.canvas_div = document.createElement('div'));\n",
       "    canvas_div.setAttribute(\n",
       "        'style',\n",
       "        'border: 1px solid #ddd;' +\n",
       "            'box-sizing: content-box;' +\n",
       "            'clear: both;' +\n",
       "            'min-height: 1px;' +\n",
       "            'min-width: 1px;' +\n",
       "            'outline: 0;' +\n",
       "            'overflow: hidden;' +\n",
       "            'position: relative;' +\n",
       "            'resize: both;'\n",
       "    );\n",
       "\n",
       "    function on_keyboard_event_closure(name) {\n",
       "        return function (event) {\n",
       "            return fig.key_event(event, name);\n",
       "        };\n",
       "    }\n",
       "\n",
       "    canvas_div.addEventListener(\n",
       "        'keydown',\n",
       "        on_keyboard_event_closure('key_press')\n",
       "    );\n",
       "    canvas_div.addEventListener(\n",
       "        'keyup',\n",
       "        on_keyboard_event_closure('key_release')\n",
       "    );\n",
       "\n",
       "    this._canvas_extra_style(canvas_div);\n",
       "    this.root.appendChild(canvas_div);\n",
       "\n",
       "    var canvas = (this.canvas = document.createElement('canvas'));\n",
       "    canvas.classList.add('mpl-canvas');\n",
       "    canvas.setAttribute('style', 'box-sizing: content-box;');\n",
       "\n",
       "    this.context = canvas.getContext('2d');\n",
       "\n",
       "    var backingStore =\n",
       "        this.context.backingStorePixelRatio ||\n",
       "        this.context.webkitBackingStorePixelRatio ||\n",
       "        this.context.mozBackingStorePixelRatio ||\n",
       "        this.context.msBackingStorePixelRatio ||\n",
       "        this.context.oBackingStorePixelRatio ||\n",
       "        this.context.backingStorePixelRatio ||\n",
       "        1;\n",
       "\n",
       "    this.ratio = (window.devicePixelRatio || 1) / backingStore;\n",
       "\n",
       "    var rubberband_canvas = (this.rubberband_canvas = document.createElement(\n",
       "        'canvas'\n",
       "    ));\n",
       "    rubberband_canvas.setAttribute(\n",
       "        'style',\n",
       "        'box-sizing: content-box; position: absolute; left: 0; top: 0; z-index: 1;'\n",
       "    );\n",
       "\n",
       "    // Apply a ponyfill if ResizeObserver is not implemented by browser.\n",
       "    if (this.ResizeObserver === undefined) {\n",
       "        if (window.ResizeObserver !== undefined) {\n",
       "            this.ResizeObserver = window.ResizeObserver;\n",
       "        } else {\n",
       "            var obs = _JSXTOOLS_RESIZE_OBSERVER({});\n",
       "            this.ResizeObserver = obs.ResizeObserver;\n",
       "        }\n",
       "    }\n",
       "\n",
       "    this.resizeObserverInstance = new this.ResizeObserver(function (entries) {\n",
       "        var nentries = entries.length;\n",
       "        for (var i = 0; i < nentries; i++) {\n",
       "            var entry = entries[i];\n",
       "            var width, height;\n",
       "            if (entry.contentBoxSize) {\n",
       "                if (entry.contentBoxSize instanceof Array) {\n",
       "                    // Chrome 84 implements new version of spec.\n",
       "                    width = entry.contentBoxSize[0].inlineSize;\n",
       "                    height = entry.contentBoxSize[0].blockSize;\n",
       "                } else {\n",
       "                    // Firefox implements old version of spec.\n",
       "                    width = entry.contentBoxSize.inlineSize;\n",
       "                    height = entry.contentBoxSize.blockSize;\n",
       "                }\n",
       "            } else {\n",
       "                // Chrome <84 implements even older version of spec.\n",
       "                width = entry.contentRect.width;\n",
       "                height = entry.contentRect.height;\n",
       "            }\n",
       "\n",
       "            // Keep the size of the canvas and rubber band canvas in sync with\n",
       "            // the canvas container.\n",
       "            if (entry.devicePixelContentBoxSize) {\n",
       "                // Chrome 84 implements new version of spec.\n",
       "                canvas.setAttribute(\n",
       "                    'width',\n",
       "                    entry.devicePixelContentBoxSize[0].inlineSize\n",
       "                );\n",
       "                canvas.setAttribute(\n",
       "                    'height',\n",
       "                    entry.devicePixelContentBoxSize[0].blockSize\n",
       "                );\n",
       "            } else {\n",
       "                canvas.setAttribute('width', width * fig.ratio);\n",
       "                canvas.setAttribute('height', height * fig.ratio);\n",
       "            }\n",
       "            canvas.setAttribute(\n",
       "                'style',\n",
       "                'width: ' + width + 'px; height: ' + height + 'px;'\n",
       "            );\n",
       "\n",
       "            rubberband_canvas.setAttribute('width', width);\n",
       "            rubberband_canvas.setAttribute('height', height);\n",
       "\n",
       "            // And update the size in Python. We ignore the initial 0/0 size\n",
       "            // that occurs as the element is placed into the DOM, which should\n",
       "            // otherwise not happen due to the minimum size styling.\n",
       "            if (fig.ws.readyState == 1 && width != 0 && height != 0) {\n",
       "                fig.request_resize(width, height);\n",
       "            }\n",
       "        }\n",
       "    });\n",
       "    this.resizeObserverInstance.observe(canvas_div);\n",
       "\n",
       "    function on_mouse_event_closure(name) {\n",
       "        return function (event) {\n",
       "            return fig.mouse_event(event, name);\n",
       "        };\n",
       "    }\n",
       "\n",
       "    rubberband_canvas.addEventListener(\n",
       "        'mousedown',\n",
       "        on_mouse_event_closure('button_press')\n",
       "    );\n",
       "    rubberband_canvas.addEventListener(\n",
       "        'mouseup',\n",
       "        on_mouse_event_closure('button_release')\n",
       "    );\n",
       "    // Throttle sequential mouse events to 1 every 20ms.\n",
       "    rubberband_canvas.addEventListener(\n",
       "        'mousemove',\n",
       "        on_mouse_event_closure('motion_notify')\n",
       "    );\n",
       "\n",
       "    rubberband_canvas.addEventListener(\n",
       "        'mouseenter',\n",
       "        on_mouse_event_closure('figure_enter')\n",
       "    );\n",
       "    rubberband_canvas.addEventListener(\n",
       "        'mouseleave',\n",
       "        on_mouse_event_closure('figure_leave')\n",
       "    );\n",
       "\n",
       "    canvas_div.addEventListener('wheel', function (event) {\n",
       "        if (event.deltaY < 0) {\n",
       "            event.step = 1;\n",
       "        } else {\n",
       "            event.step = -1;\n",
       "        }\n",
       "        on_mouse_event_closure('scroll')(event);\n",
       "    });\n",
       "\n",
       "    canvas_div.appendChild(canvas);\n",
       "    canvas_div.appendChild(rubberband_canvas);\n",
       "\n",
       "    this.rubberband_context = rubberband_canvas.getContext('2d');\n",
       "    this.rubberband_context.strokeStyle = '#000000';\n",
       "\n",
       "    this._resize_canvas = function (width, height, forward) {\n",
       "        if (forward) {\n",
       "            canvas_div.style.width = width + 'px';\n",
       "            canvas_div.style.height = height + 'px';\n",
       "        }\n",
       "    };\n",
       "\n",
       "    // Disable right mouse context menu.\n",
       "    this.rubberband_canvas.addEventListener('contextmenu', function (_e) {\n",
       "        event.preventDefault();\n",
       "        return false;\n",
       "    });\n",
       "\n",
       "    function set_focus() {\n",
       "        canvas.focus();\n",
       "        canvas_div.focus();\n",
       "    }\n",
       "\n",
       "    window.setTimeout(set_focus, 100);\n",
       "};\n",
       "\n",
       "mpl.figure.prototype._init_toolbar = function () {\n",
       "    var fig = this;\n",
       "\n",
       "    var toolbar = document.createElement('div');\n",
       "    toolbar.classList = 'mpl-toolbar';\n",
       "    this.root.appendChild(toolbar);\n",
       "\n",
       "    function on_click_closure(name) {\n",
       "        return function (_event) {\n",
       "            return fig.toolbar_button_onclick(name);\n",
       "        };\n",
       "    }\n",
       "\n",
       "    function on_mouseover_closure(tooltip) {\n",
       "        return function (event) {\n",
       "            if (!event.currentTarget.disabled) {\n",
       "                return fig.toolbar_button_onmouseover(tooltip);\n",
       "            }\n",
       "        };\n",
       "    }\n",
       "\n",
       "    fig.buttons = {};\n",
       "    var buttonGroup = document.createElement('div');\n",
       "    buttonGroup.classList = 'mpl-button-group';\n",
       "    for (var toolbar_ind in mpl.toolbar_items) {\n",
       "        var name = mpl.toolbar_items[toolbar_ind][0];\n",
       "        var tooltip = mpl.toolbar_items[toolbar_ind][1];\n",
       "        var image = mpl.toolbar_items[toolbar_ind][2];\n",
       "        var method_name = mpl.toolbar_items[toolbar_ind][3];\n",
       "\n",
       "        if (!name) {\n",
       "            /* Instead of a spacer, we start a new button group. */\n",
       "            if (buttonGroup.hasChildNodes()) {\n",
       "                toolbar.appendChild(buttonGroup);\n",
       "            }\n",
       "            buttonGroup = document.createElement('div');\n",
       "            buttonGroup.classList = 'mpl-button-group';\n",
       "            continue;\n",
       "        }\n",
       "\n",
       "        var button = (fig.buttons[name] = document.createElement('button'));\n",
       "        button.classList = 'mpl-widget';\n",
       "        button.setAttribute('role', 'button');\n",
       "        button.setAttribute('aria-disabled', 'false');\n",
       "        button.addEventListener('click', on_click_closure(method_name));\n",
       "        button.addEventListener('mouseover', on_mouseover_closure(tooltip));\n",
       "\n",
       "        var icon_img = document.createElement('img');\n",
       "        icon_img.src = '_images/' + image + '.png';\n",
       "        icon_img.srcset = '_images/' + image + '_large.png 2x';\n",
       "        icon_img.alt = tooltip;\n",
       "        button.appendChild(icon_img);\n",
       "\n",
       "        buttonGroup.appendChild(button);\n",
       "    }\n",
       "\n",
       "    if (buttonGroup.hasChildNodes()) {\n",
       "        toolbar.appendChild(buttonGroup);\n",
       "    }\n",
       "\n",
       "    var fmt_picker = document.createElement('select');\n",
       "    fmt_picker.classList = 'mpl-widget';\n",
       "    toolbar.appendChild(fmt_picker);\n",
       "    this.format_dropdown = fmt_picker;\n",
       "\n",
       "    for (var ind in mpl.extensions) {\n",
       "        var fmt = mpl.extensions[ind];\n",
       "        var option = document.createElement('option');\n",
       "        option.selected = fmt === mpl.default_extension;\n",
       "        option.innerHTML = fmt;\n",
       "        fmt_picker.appendChild(option);\n",
       "    }\n",
       "\n",
       "    var status_bar = document.createElement('span');\n",
       "    status_bar.classList = 'mpl-message';\n",
       "    toolbar.appendChild(status_bar);\n",
       "    this.message = status_bar;\n",
       "};\n",
       "\n",
       "mpl.figure.prototype.request_resize = function (x_pixels, y_pixels) {\n",
       "    // Request matplotlib to resize the figure. Matplotlib will then trigger a resize in the client,\n",
       "    // which will in turn request a refresh of the image.\n",
       "    this.send_message('resize', { width: x_pixels, height: y_pixels });\n",
       "};\n",
       "\n",
       "mpl.figure.prototype.send_message = function (type, properties) {\n",
       "    properties['type'] = type;\n",
       "    properties['figure_id'] = this.id;\n",
       "    this.ws.send(JSON.stringify(properties));\n",
       "};\n",
       "\n",
       "mpl.figure.prototype.send_draw_message = function () {\n",
       "    if (!this.waiting) {\n",
       "        this.waiting = true;\n",
       "        this.ws.send(JSON.stringify({ type: 'draw', figure_id: this.id }));\n",
       "    }\n",
       "};\n",
       "\n",
       "mpl.figure.prototype.handle_save = function (fig, _msg) {\n",
       "    var format_dropdown = fig.format_dropdown;\n",
       "    var format = format_dropdown.options[format_dropdown.selectedIndex].value;\n",
       "    fig.ondownload(fig, format);\n",
       "};\n",
       "\n",
       "mpl.figure.prototype.handle_resize = function (fig, msg) {\n",
       "    var size = msg['size'];\n",
       "    if (size[0] !== fig.canvas.width || size[1] !== fig.canvas.height) {\n",
       "        fig._resize_canvas(size[0], size[1], msg['forward']);\n",
       "        fig.send_message('refresh', {});\n",
       "    }\n",
       "};\n",
       "\n",
       "mpl.figure.prototype.handle_rubberband = function (fig, msg) {\n",
       "    var x0 = msg['x0'] / fig.ratio;\n",
       "    var y0 = (fig.canvas.height - msg['y0']) / fig.ratio;\n",
       "    var x1 = msg['x1'] / fig.ratio;\n",
       "    var y1 = (fig.canvas.height - msg['y1']) / fig.ratio;\n",
       "    x0 = Math.floor(x0) + 0.5;\n",
       "    y0 = Math.floor(y0) + 0.5;\n",
       "    x1 = Math.floor(x1) + 0.5;\n",
       "    y1 = Math.floor(y1) + 0.5;\n",
       "    var min_x = Math.min(x0, x1);\n",
       "    var min_y = Math.min(y0, y1);\n",
       "    var width = Math.abs(x1 - x0);\n",
       "    var height = Math.abs(y1 - y0);\n",
       "\n",
       "    fig.rubberband_context.clearRect(\n",
       "        0,\n",
       "        0,\n",
       "        fig.canvas.width / fig.ratio,\n",
       "        fig.canvas.height / fig.ratio\n",
       "    );\n",
       "\n",
       "    fig.rubberband_context.strokeRect(min_x, min_y, width, height);\n",
       "};\n",
       "\n",
       "mpl.figure.prototype.handle_figure_label = function (fig, msg) {\n",
       "    // Updates the figure title.\n",
       "    fig.header.textContent = msg['label'];\n",
       "};\n",
       "\n",
       "mpl.figure.prototype.handle_cursor = function (fig, msg) {\n",
       "    var cursor = msg['cursor'];\n",
       "    switch (cursor) {\n",
       "        case 0:\n",
       "            cursor = 'pointer';\n",
       "            break;\n",
       "        case 1:\n",
       "            cursor = 'default';\n",
       "            break;\n",
       "        case 2:\n",
       "            cursor = 'crosshair';\n",
       "            break;\n",
       "        case 3:\n",
       "            cursor = 'move';\n",
       "            break;\n",
       "    }\n",
       "    fig.rubberband_canvas.style.cursor = cursor;\n",
       "};\n",
       "\n",
       "mpl.figure.prototype.handle_message = function (fig, msg) {\n",
       "    fig.message.textContent = msg['message'];\n",
       "};\n",
       "\n",
       "mpl.figure.prototype.handle_draw = function (fig, _msg) {\n",
       "    // Request the server to send over a new figure.\n",
       "    fig.send_draw_message();\n",
       "};\n",
       "\n",
       "mpl.figure.prototype.handle_image_mode = function (fig, msg) {\n",
       "    fig.image_mode = msg['mode'];\n",
       "};\n",
       "\n",
       "mpl.figure.prototype.handle_history_buttons = function (fig, msg) {\n",
       "    for (var key in msg) {\n",
       "        if (!(key in fig.buttons)) {\n",
       "            continue;\n",
       "        }\n",
       "        fig.buttons[key].disabled = !msg[key];\n",
       "        fig.buttons[key].setAttribute('aria-disabled', !msg[key]);\n",
       "    }\n",
       "};\n",
       "\n",
       "mpl.figure.prototype.handle_navigate_mode = function (fig, msg) {\n",
       "    if (msg['mode'] === 'PAN') {\n",
       "        fig.buttons['Pan'].classList.add('active');\n",
       "        fig.buttons['Zoom'].classList.remove('active');\n",
       "    } else if (msg['mode'] === 'ZOOM') {\n",
       "        fig.buttons['Pan'].classList.remove('active');\n",
       "        fig.buttons['Zoom'].classList.add('active');\n",
       "    } else {\n",
       "        fig.buttons['Pan'].classList.remove('active');\n",
       "        fig.buttons['Zoom'].classList.remove('active');\n",
       "    }\n",
       "};\n",
       "\n",
       "mpl.figure.prototype.updated_canvas_event = function () {\n",
       "    // Called whenever the canvas gets updated.\n",
       "    this.send_message('ack', {});\n",
       "};\n",
       "\n",
       "// A function to construct a web socket function for onmessage handling.\n",
       "// Called in the figure constructor.\n",
       "mpl.figure.prototype._make_on_message_function = function (fig) {\n",
       "    return function socket_on_message(evt) {\n",
       "        if (evt.data instanceof Blob) {\n",
       "            /* FIXME: We get \"Resource interpreted as Image but\n",
       "             * transferred with MIME type text/plain:\" errors on\n",
       "             * Chrome.  But how to set the MIME type?  It doesn't seem\n",
       "             * to be part of the websocket stream */\n",
       "            evt.data.type = 'image/png';\n",
       "\n",
       "            /* Free the memory for the previous frames */\n",
       "            if (fig.imageObj.src) {\n",
       "                (window.URL || window.webkitURL).revokeObjectURL(\n",
       "                    fig.imageObj.src\n",
       "                );\n",
       "            }\n",
       "\n",
       "            fig.imageObj.src = (window.URL || window.webkitURL).createObjectURL(\n",
       "                evt.data\n",
       "            );\n",
       "            fig.updated_canvas_event();\n",
       "            fig.waiting = false;\n",
       "            return;\n",
       "        } else if (\n",
       "            typeof evt.data === 'string' &&\n",
       "            evt.data.slice(0, 21) === 'data:image/png;base64'\n",
       "        ) {\n",
       "            fig.imageObj.src = evt.data;\n",
       "            fig.updated_canvas_event();\n",
       "            fig.waiting = false;\n",
       "            return;\n",
       "        }\n",
       "\n",
       "        var msg = JSON.parse(evt.data);\n",
       "        var msg_type = msg['type'];\n",
       "\n",
       "        // Call the  \"handle_{type}\" callback, which takes\n",
       "        // the figure and JSON message as its only arguments.\n",
       "        try {\n",
       "            var callback = fig['handle_' + msg_type];\n",
       "        } catch (e) {\n",
       "            console.log(\n",
       "                \"No handler for the '\" + msg_type + \"' message type: \",\n",
       "                msg\n",
       "            );\n",
       "            return;\n",
       "        }\n",
       "\n",
       "        if (callback) {\n",
       "            try {\n",
       "                // console.log(\"Handling '\" + msg_type + \"' message: \", msg);\n",
       "                callback(fig, msg);\n",
       "            } catch (e) {\n",
       "                console.log(\n",
       "                    \"Exception inside the 'handler_\" + msg_type + \"' callback:\",\n",
       "                    e,\n",
       "                    e.stack,\n",
       "                    msg\n",
       "                );\n",
       "            }\n",
       "        }\n",
       "    };\n",
       "};\n",
       "\n",
       "// from http://stackoverflow.com/questions/1114465/getting-mouse-location-in-canvas\n",
       "mpl.findpos = function (e) {\n",
       "    //this section is from http://www.quirksmode.org/js/events_properties.html\n",
       "    var targ;\n",
       "    if (!e) {\n",
       "        e = window.event;\n",
       "    }\n",
       "    if (e.target) {\n",
       "        targ = e.target;\n",
       "    } else if (e.srcElement) {\n",
       "        targ = e.srcElement;\n",
       "    }\n",
       "    if (targ.nodeType === 3) {\n",
       "        // defeat Safari bug\n",
       "        targ = targ.parentNode;\n",
       "    }\n",
       "\n",
       "    // pageX,Y are the mouse positions relative to the document\n",
       "    var boundingRect = targ.getBoundingClientRect();\n",
       "    var x = e.pageX - (boundingRect.left + document.body.scrollLeft);\n",
       "    var y = e.pageY - (boundingRect.top + document.body.scrollTop);\n",
       "\n",
       "    return { x: x, y: y };\n",
       "};\n",
       "\n",
       "/*\n",
       " * return a copy of an object with only non-object keys\n",
       " * we need this to avoid circular references\n",
       " * http://stackoverflow.com/a/24161582/3208463\n",
       " */\n",
       "function simpleKeys(original) {\n",
       "    return Object.keys(original).reduce(function (obj, key) {\n",
       "        if (typeof original[key] !== 'object') {\n",
       "            obj[key] = original[key];\n",
       "        }\n",
       "        return obj;\n",
       "    }, {});\n",
       "}\n",
       "\n",
       "mpl.figure.prototype.mouse_event = function (event, name) {\n",
       "    var canvas_pos = mpl.findpos(event);\n",
       "\n",
       "    if (name === 'button_press') {\n",
       "        this.canvas.focus();\n",
       "        this.canvas_div.focus();\n",
       "    }\n",
       "\n",
       "    var x = canvas_pos.x * this.ratio;\n",
       "    var y = canvas_pos.y * this.ratio;\n",
       "\n",
       "    this.send_message(name, {\n",
       "        x: x,\n",
       "        y: y,\n",
       "        button: event.button,\n",
       "        step: event.step,\n",
       "        guiEvent: simpleKeys(event),\n",
       "    });\n",
       "\n",
       "    /* This prevents the web browser from automatically changing to\n",
       "     * the text insertion cursor when the button is pressed.  We want\n",
       "     * to control all of the cursor setting manually through the\n",
       "     * 'cursor' event from matplotlib */\n",
       "    event.preventDefault();\n",
       "    return false;\n",
       "};\n",
       "\n",
       "mpl.figure.prototype._key_event_extra = function (_event, _name) {\n",
       "    // Handle any extra behaviour associated with a key event\n",
       "};\n",
       "\n",
       "mpl.figure.prototype.key_event = function (event, name) {\n",
       "    // Prevent repeat events\n",
       "    if (name === 'key_press') {\n",
       "        if (event.which === this._key) {\n",
       "            return;\n",
       "        } else {\n",
       "            this._key = event.which;\n",
       "        }\n",
       "    }\n",
       "    if (name === 'key_release') {\n",
       "        this._key = null;\n",
       "    }\n",
       "\n",
       "    var value = '';\n",
       "    if (event.ctrlKey && event.which !== 17) {\n",
       "        value += 'ctrl+';\n",
       "    }\n",
       "    if (event.altKey && event.which !== 18) {\n",
       "        value += 'alt+';\n",
       "    }\n",
       "    if (event.shiftKey && event.which !== 16) {\n",
       "        value += 'shift+';\n",
       "    }\n",
       "\n",
       "    value += 'k';\n",
       "    value += event.which.toString();\n",
       "\n",
       "    this._key_event_extra(event, name);\n",
       "\n",
       "    this.send_message(name, { key: value, guiEvent: simpleKeys(event) });\n",
       "    return false;\n",
       "};\n",
       "\n",
       "mpl.figure.prototype.toolbar_button_onclick = function (name) {\n",
       "    if (name === 'download') {\n",
       "        this.handle_save(this, null);\n",
       "    } else {\n",
       "        this.send_message('toolbar_button', { name: name });\n",
       "    }\n",
       "};\n",
       "\n",
       "mpl.figure.prototype.toolbar_button_onmouseover = function (tooltip) {\n",
       "    this.message.textContent = tooltip;\n",
       "};\n",
       "\n",
       "///////////////// REMAINING CONTENT GENERATED BY embed_js.py /////////////////\n",
       "// prettier-ignore\n",
       "var _JSXTOOLS_RESIZE_OBSERVER=function(A){var t,i=new WeakMap,n=new WeakMap,a=new WeakMap,r=new WeakMap,o=new Set;function s(e){if(!(this instanceof s))throw new TypeError(\"Constructor requires 'new' operator\");i.set(this,e)}function h(){throw new TypeError(\"Function is not a constructor\")}function c(e,t,i,n){e=0 in arguments?Number(arguments[0]):0,t=1 in arguments?Number(arguments[1]):0,i=2 in arguments?Number(arguments[2]):0,n=3 in arguments?Number(arguments[3]):0,this.right=(this.x=this.left=e)+(this.width=i),this.bottom=(this.y=this.top=t)+(this.height=n),Object.freeze(this)}function d(){t=requestAnimationFrame(d);var s=new WeakMap,p=new Set;o.forEach((function(t){r.get(t).forEach((function(i){var r=t instanceof window.SVGElement,o=a.get(t),d=r?0:parseFloat(o.paddingTop),f=r?0:parseFloat(o.paddingRight),l=r?0:parseFloat(o.paddingBottom),u=r?0:parseFloat(o.paddingLeft),g=r?0:parseFloat(o.borderTopWidth),m=r?0:parseFloat(o.borderRightWidth),w=r?0:parseFloat(o.borderBottomWidth),b=u+f,F=d+l,v=(r?0:parseFloat(o.borderLeftWidth))+m,W=g+w,y=r?0:t.offsetHeight-W-t.clientHeight,E=r?0:t.offsetWidth-v-t.clientWidth,R=b+v,z=F+W,M=r?t.width:parseFloat(o.width)-R-E,O=r?t.height:parseFloat(o.height)-z-y;if(n.has(t)){var k=n.get(t);if(k[0]===M&&k[1]===O)return}n.set(t,[M,O]);var S=Object.create(h.prototype);S.target=t,S.contentRect=new c(u,d,M,O),s.has(i)||(s.set(i,[]),p.add(i)),s.get(i).push(S)}))})),p.forEach((function(e){i.get(e).call(e,s.get(e),e)}))}return s.prototype.observe=function(i){if(i instanceof window.Element){r.has(i)||(r.set(i,new Set),o.add(i),a.set(i,window.getComputedStyle(i)));var n=r.get(i);n.has(this)||n.add(this),cancelAnimationFrame(t),t=requestAnimationFrame(d)}},s.prototype.unobserve=function(i){if(i instanceof window.Element&&r.has(i)){var n=r.get(i);n.has(this)&&(n.delete(this),n.size||(r.delete(i),o.delete(i))),n.size||r.delete(i),o.size||cancelAnimationFrame(t)}},A.DOMRectReadOnly=c,A.ResizeObserver=s,A.ResizeObserverEntry=h,A}; // eslint-disable-line\n",
       "mpl.toolbar_items = [[\"Home\", \"Reset original view\", \"fa fa-home icon-home\", \"home\"], [\"Back\", \"Back to previous view\", \"fa fa-arrow-left icon-arrow-left\", \"back\"], [\"Forward\", \"Forward to next view\", \"fa fa-arrow-right icon-arrow-right\", \"forward\"], [\"\", \"\", \"\", \"\"], [\"Pan\", \"Left button pans, Right button zooms\\nx/y fixes axis, CTRL fixes aspect\", \"fa fa-arrows icon-move\", \"pan\"], [\"Zoom\", \"Zoom to rectangle\\nx/y fixes axis, CTRL fixes aspect\", \"fa fa-square-o icon-check-empty\", \"zoom\"], [\"\", \"\", \"\", \"\"], [\"Download\", \"Download plot\", \"fa fa-floppy-o icon-save\", \"download\"]];\n",
       "\n",
       "mpl.extensions = [\"eps\", \"jpeg\", \"pdf\", \"png\", \"ps\", \"raw\", \"svg\", \"tif\"];\n",
       "\n",
       "mpl.default_extension = \"png\";/* global mpl */\n",
       "\n",
       "var comm_websocket_adapter = function (comm) {\n",
       "    // Create a \"websocket\"-like object which calls the given IPython comm\n",
       "    // object with the appropriate methods. Currently this is a non binary\n",
       "    // socket, so there is still some room for performance tuning.\n",
       "    var ws = {};\n",
       "\n",
       "    ws.close = function () {\n",
       "        comm.close();\n",
       "    };\n",
       "    ws.send = function (m) {\n",
       "        //console.log('sending', m);\n",
       "        comm.send(m);\n",
       "    };\n",
       "    // Register the callback with on_msg.\n",
       "    comm.on_msg(function (msg) {\n",
       "        //console.log('receiving', msg['content']['data'], msg);\n",
       "        // Pass the mpl event to the overridden (by mpl) onmessage function.\n",
       "        ws.onmessage(msg['content']['data']);\n",
       "    });\n",
       "    return ws;\n",
       "};\n",
       "\n",
       "mpl.mpl_figure_comm = function (comm, msg) {\n",
       "    // This is the function which gets called when the mpl process\n",
       "    // starts-up an IPython Comm through the \"matplotlib\" channel.\n",
       "\n",
       "    var id = msg.content.data.id;\n",
       "    // Get hold of the div created by the display call when the Comm\n",
       "    // socket was opened in Python.\n",
       "    var element = document.getElementById(id);\n",
       "    var ws_proxy = comm_websocket_adapter(comm);\n",
       "\n",
       "    function ondownload(figure, _format) {\n",
       "        window.open(figure.canvas.toDataURL());\n",
       "    }\n",
       "\n",
       "    var fig = new mpl.figure(id, ws_proxy, ondownload, element);\n",
       "\n",
       "    // Call onopen now - mpl needs it, as it is assuming we've passed it a real\n",
       "    // web socket which is closed, not our websocket->open comm proxy.\n",
       "    ws_proxy.onopen();\n",
       "\n",
       "    fig.parent_element = element;\n",
       "    fig.cell_info = mpl.find_output_cell(\"<div id='\" + id + \"'></div>\");\n",
       "    if (!fig.cell_info) {\n",
       "        console.error('Failed to find cell for figure', id, fig);\n",
       "        return;\n",
       "    }\n",
       "    fig.cell_info[0].output_area.element.on(\n",
       "        'cleared',\n",
       "        { fig: fig },\n",
       "        fig._remove_fig_handler\n",
       "    );\n",
       "};\n",
       "\n",
       "mpl.figure.prototype.handle_close = function (fig, msg) {\n",
       "    var width = fig.canvas.width / fig.ratio;\n",
       "    fig.cell_info[0].output_area.element.off(\n",
       "        'cleared',\n",
       "        fig._remove_fig_handler\n",
       "    );\n",
       "    fig.resizeObserverInstance.unobserve(fig.canvas_div);\n",
       "\n",
       "    // Update the output cell to use the data from the current canvas.\n",
       "    fig.push_to_output();\n",
       "    var dataURL = fig.canvas.toDataURL();\n",
       "    // Re-enable the keyboard manager in IPython - without this line, in FF,\n",
       "    // the notebook keyboard shortcuts fail.\n",
       "    IPython.keyboard_manager.enable();\n",
       "    fig.parent_element.innerHTML =\n",
       "        '<img src=\"' + dataURL + '\" width=\"' + width + '\">';\n",
       "    fig.close_ws(fig, msg);\n",
       "};\n",
       "\n",
       "mpl.figure.prototype.close_ws = function (fig, msg) {\n",
       "    fig.send_message('closing', msg);\n",
       "    // fig.ws.close()\n",
       "};\n",
       "\n",
       "mpl.figure.prototype.push_to_output = function (_remove_interactive) {\n",
       "    // Turn the data on the canvas into data in the output cell.\n",
       "    var width = this.canvas.width / this.ratio;\n",
       "    var dataURL = this.canvas.toDataURL();\n",
       "    this.cell_info[1]['text/html'] =\n",
       "        '<img src=\"' + dataURL + '\" width=\"' + width + '\">';\n",
       "};\n",
       "\n",
       "mpl.figure.prototype.updated_canvas_event = function () {\n",
       "    // Tell IPython that the notebook contents must change.\n",
       "    IPython.notebook.set_dirty(true);\n",
       "    this.send_message('ack', {});\n",
       "    var fig = this;\n",
       "    // Wait a second, then push the new image to the DOM so\n",
       "    // that it is saved nicely (might be nice to debounce this).\n",
       "    setTimeout(function () {\n",
       "        fig.push_to_output();\n",
       "    }, 1000);\n",
       "};\n",
       "\n",
       "mpl.figure.prototype._init_toolbar = function () {\n",
       "    var fig = this;\n",
       "\n",
       "    var toolbar = document.createElement('div');\n",
       "    toolbar.classList = 'btn-toolbar';\n",
       "    this.root.appendChild(toolbar);\n",
       "\n",
       "    function on_click_closure(name) {\n",
       "        return function (_event) {\n",
       "            return fig.toolbar_button_onclick(name);\n",
       "        };\n",
       "    }\n",
       "\n",
       "    function on_mouseover_closure(tooltip) {\n",
       "        return function (event) {\n",
       "            if (!event.currentTarget.disabled) {\n",
       "                return fig.toolbar_button_onmouseover(tooltip);\n",
       "            }\n",
       "        };\n",
       "    }\n",
       "\n",
       "    fig.buttons = {};\n",
       "    var buttonGroup = document.createElement('div');\n",
       "    buttonGroup.classList = 'btn-group';\n",
       "    var button;\n",
       "    for (var toolbar_ind in mpl.toolbar_items) {\n",
       "        var name = mpl.toolbar_items[toolbar_ind][0];\n",
       "        var tooltip = mpl.toolbar_items[toolbar_ind][1];\n",
       "        var image = mpl.toolbar_items[toolbar_ind][2];\n",
       "        var method_name = mpl.toolbar_items[toolbar_ind][3];\n",
       "\n",
       "        if (!name) {\n",
       "            /* Instead of a spacer, we start a new button group. */\n",
       "            if (buttonGroup.hasChildNodes()) {\n",
       "                toolbar.appendChild(buttonGroup);\n",
       "            }\n",
       "            buttonGroup = document.createElement('div');\n",
       "            buttonGroup.classList = 'btn-group';\n",
       "            continue;\n",
       "        }\n",
       "\n",
       "        button = fig.buttons[name] = document.createElement('button');\n",
       "        button.classList = 'btn btn-default';\n",
       "        button.href = '#';\n",
       "        button.title = name;\n",
       "        button.innerHTML = '<i class=\"fa ' + image + ' fa-lg\"></i>';\n",
       "        button.addEventListener('click', on_click_closure(method_name));\n",
       "        button.addEventListener('mouseover', on_mouseover_closure(tooltip));\n",
       "        buttonGroup.appendChild(button);\n",
       "    }\n",
       "\n",
       "    if (buttonGroup.hasChildNodes()) {\n",
       "        toolbar.appendChild(buttonGroup);\n",
       "    }\n",
       "\n",
       "    // Add the status bar.\n",
       "    var status_bar = document.createElement('span');\n",
       "    status_bar.classList = 'mpl-message pull-right';\n",
       "    toolbar.appendChild(status_bar);\n",
       "    this.message = status_bar;\n",
       "\n",
       "    // Add the close button to the window.\n",
       "    var buttongrp = document.createElement('div');\n",
       "    buttongrp.classList = 'btn-group inline pull-right';\n",
       "    button = document.createElement('button');\n",
       "    button.classList = 'btn btn-mini btn-primary';\n",
       "    button.href = '#';\n",
       "    button.title = 'Stop Interaction';\n",
       "    button.innerHTML = '<i class=\"fa fa-power-off icon-remove icon-large\"></i>';\n",
       "    button.addEventListener('click', function (_evt) {\n",
       "        fig.handle_close(fig, {});\n",
       "    });\n",
       "    button.addEventListener(\n",
       "        'mouseover',\n",
       "        on_mouseover_closure('Stop Interaction')\n",
       "    );\n",
       "    buttongrp.appendChild(button);\n",
       "    var titlebar = this.root.querySelector('.ui-dialog-titlebar');\n",
       "    titlebar.insertBefore(buttongrp, titlebar.firstChild);\n",
       "};\n",
       "\n",
       "mpl.figure.prototype._remove_fig_handler = function (event) {\n",
       "    var fig = event.data.fig;\n",
       "    if (event.target !== this) {\n",
       "        // Ignore bubbled events from children.\n",
       "        return;\n",
       "    }\n",
       "    fig.close_ws(fig, {});\n",
       "};\n",
       "\n",
       "mpl.figure.prototype._root_extra_style = function (el) {\n",
       "    el.style.boxSizing = 'content-box'; // override notebook setting of border-box.\n",
       "};\n",
       "\n",
       "mpl.figure.prototype._canvas_extra_style = function (el) {\n",
       "    // this is important to make the div 'focusable\n",
       "    el.setAttribute('tabindex', 0);\n",
       "    // reach out to IPython and tell the keyboard manager to turn it's self\n",
       "    // off when our div gets focus\n",
       "\n",
       "    // location in version 3\n",
       "    if (IPython.notebook.keyboard_manager) {\n",
       "        IPython.notebook.keyboard_manager.register_events(el);\n",
       "    } else {\n",
       "        // location in version 2\n",
       "        IPython.keyboard_manager.register_events(el);\n",
       "    }\n",
       "};\n",
       "\n",
       "mpl.figure.prototype._key_event_extra = function (event, _name) {\n",
       "    var manager = IPython.notebook.keyboard_manager;\n",
       "    if (!manager) {\n",
       "        manager = IPython.keyboard_manager;\n",
       "    }\n",
       "\n",
       "    // Check for shift+enter\n",
       "    if (event.shiftKey && event.which === 13) {\n",
       "        this.canvas_div.blur();\n",
       "        // select the cell after this one\n",
       "        var index = IPython.notebook.find_cell_index(this.cell_info[0]);\n",
       "        IPython.notebook.select(index + 1);\n",
       "    }\n",
       "};\n",
       "\n",
       "mpl.figure.prototype.handle_save = function (fig, _msg) {\n",
       "    fig.ondownload(fig, null);\n",
       "};\n",
       "\n",
       "mpl.find_output_cell = function (html_output) {\n",
       "    // Return the cell and output element which can be found *uniquely* in the notebook.\n",
       "    // Note - this is a bit hacky, but it is done because the \"notebook_saving.Notebook\"\n",
       "    // IPython event is triggered only after the cells have been serialised, which for\n",
       "    // our purposes (turning an active figure into a static one), is too late.\n",
       "    var cells = IPython.notebook.get_cells();\n",
       "    var ncells = cells.length;\n",
       "    for (var i = 0; i < ncells; i++) {\n",
       "        var cell = cells[i];\n",
       "        if (cell.cell_type === 'code') {\n",
       "            for (var j = 0; j < cell.output_area.outputs.length; j++) {\n",
       "                var data = cell.output_area.outputs[j];\n",
       "                if (data.data) {\n",
       "                    // IPython >= 3 moved mimebundle to data attribute of output\n",
       "                    data = data.data;\n",
       "                }\n",
       "                if (data['text/html'] === html_output) {\n",
       "                    return [cell, data, j];\n",
       "                }\n",
       "            }\n",
       "        }\n",
       "    }\n",
       "};\n",
       "\n",
       "// Register the function which deals with the matplotlib target/channel.\n",
       "// The kernel may be null if the page has been refreshed.\n",
       "if (IPython.notebook.kernel !== null) {\n",
       "    IPython.notebook.kernel.comm_manager.register_target(\n",
       "        'matplotlib',\n",
       "        mpl.mpl_figure_comm\n",
       "    );\n",
       "}\n"
      ],
      "text/plain": [
       "<IPython.core.display.Javascript object>"
      ]
     },
     "metadata": {},
     "output_type": "display_data"
    },
    {
     "data": {
      "text/html": [
       "<img src=\"data:image/png;base64,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\" width=\"640\">"
      ],
      "text/plain": [
       "<IPython.core.display.HTML object>"
      ]
     },
     "metadata": {},
     "output_type": "display_data"
    }
   ],
   "source": [
    "# Plot EmoBank data in VAD space\n",
    "%matplotlib notebook\n",
    "#from mpl_toolkits import mplot3d\n",
    "import matplotlib.pyplot as plt\n",
    "\n",
    "fig = plt.figure()\n",
    "ax = plt.axes(projection='3d')\n",
    "ax.scatter(data['V'], data['A'], data['D'], s=.1, c='black', alpha=.2)\n",
    "ax.set_xlim(-1, 1), ax.set_ylim(-1, 1), ax.set_zlim(-1, 1)\n",
    "\n",
    "colors = ['blue', 'orange', 'green', 'red', 'purple', 'brown']\n",
    "\n",
    "for idx, (key, value) in enumerate(emo_coord.items()):\n",
    "    ax.scatter(value[0], value[1], value[2], s=10, c=colors[idx])\n",
    "    ax.text(value[0], value[1], value[2], key, color=colors[idx])\n",
    "\n",
    "plt.show()"
   ]
  },
  {
   "cell_type": "code",
   "execution_count": 48,
   "id": "d8b0b02f",
   "metadata": {},
   "outputs": [
    {
     "name": "stdout",
     "output_type": "stream",
     "text": [
      "anger 0.8189627586160435\n",
      "disgust 0.7032780389006896\n",
      "fear 0.976985158536198\n",
      "joy 0.9489467845985885\n",
      "sadness 0.760723339986358\n",
      "surprise 0.7910752176626443\n"
     ]
    }
   ],
   "source": [
    "from scipy.spatial import distance\n",
    "\n",
    "# Distance of each emotion from the center\n",
    "for emo, coord in emo_coord.items():\n",
    "    print(emo, distance.euclidean((0, 0, 0), coord))"
   ]
  },
  {
   "cell_type": "code",
   "execution_count": 49,
   "id": "a8167bb8",
   "metadata": {},
   "outputs": [],
   "source": [
    "def vad_to_em(x):\n",
    "    \n",
    "    \"\"\"\n",
    "    x: DataFrame entry of VAD values\n",
    "    \n",
    "    For each observation, compute the distances from the point\n",
    "    to each of the different emotions. Assign each point to the\n",
    "    closest one, unless it can be considered a neutral sentence\n",
    "    being too close to the center.\n",
    "    \"\"\"\n",
    "    \n",
    "    x = x.to_numpy()\n",
    "    emotion = ''\n",
    "    dist = 1\n",
    "    \n",
    "    if distance.euclidean(x, (0, 0, 0)) < 0.4:\n",
    "        return emotion\n",
    "    else:\n",
    "        for emo, coord in emo_coord.items():\n",
    "            new_dist = distance.euclidean(x, coord)\n",
    "            if new_dist < dist:\n",
    "                emotion = emo\n",
    "                dist = new_dist\n",
    "    \n",
    "    return emotion"
   ]
  },
  {
   "cell_type": "code",
   "execution_count": 50,
   "id": "4340a88c",
   "metadata": {},
   "outputs": [],
   "source": [
    "# Generate a variable emotion using the function above\n",
    "data['emotion'] = data.apply(lambda x: vad_to_em(x[2:5]), axis=1)"
   ]
  },
  {
   "cell_type": "code",
   "execution_count": 51,
   "id": "6bff4781",
   "metadata": {},
   "outputs": [
    {
     "data": {
      "text/plain": [
       "            8453\n",
       "disgust      539\n",
       "joy          510\n",
       "sadness      419\n",
       "surprise     230\n",
       "fear          96\n",
       "anger         78\n",
       "Name: emotion, dtype: int64"
      ]
     },
     "execution_count": 51,
     "metadata": {},
     "output_type": "execute_result"
    }
   ],
   "source": [
    "# Observations assigned to each emotion\n",
    "data['emotion'].value_counts()"
   ]
  },
  {
   "cell_type": "markdown",
   "id": "11775877",
   "metadata": {},
   "source": [
    "## Lyrics Dataset"
   ]
  },
  {
   "cell_type": "code",
   "execution_count": 52,
   "id": "64f5038c",
   "metadata": {},
   "outputs": [],
   "source": [
    "# Use Genius API and library 'lyricsgenius' to retrieve information about songs\n",
    "import lyricsgenius as lg\n",
    "\n",
    "genius = lg.Genius('E60-Z9CYOy7qOQ003Bgl8cuMgtzecGTYQLBOwb4r6MsQYRn6eenLoqqLNm_W4NiZ',\n",
    "                             skip_non_songs=True, remove_section_headers=True, retries=3)\n",
    "\n",
    "\n",
    "\n",
    "def get_songs(pages=1, period='all_time'):\n",
    "    \"\"\"\n",
    "    pages: number of pages to consider (each page has 50 items)\n",
    "    period: time period which the charts refer to ('all_time', 'month', 'week', 'day')\n",
    "    \n",
    "    For each genre, retrieve the charts based on the time period they refer to.\n",
    "    Each chart is composed of items (songs), whose quantity is defined by pages*50.\n",
    "    For each song, retrieve id, title, artist and genre.\n",
    "    Return the list of songs.\n",
    "    \"\"\"\n",
    "    \n",
    "    genres = ['rap', 'pop', 'rb', 'rock', 'country']\n",
    "    songs = []\n",
    "    \n",
    "    for genre in genres:\n",
    "        for page in range(1, pages+1):\n",
    "            items = genius.charts(time_period=period, chart_genre=genre, \n",
    "                                  per_page=50, page=page)['chart_items']\n",
    "            for item in items:\n",
    "                song = item['item']\n",
    "                songs.append([song['id'], song['title'].replace('\\u200b', ''), \n",
    "                              song['primary_artist']['name'], genre])\n",
    "                \n",
    "    return pd.DataFrame(songs, columns=['id', 'title', 'artist', 'genre'])"
   ]
  },
  {
   "cell_type": "code",
   "execution_count": 53,
   "id": "4d6cca9a",
   "metadata": {
    "scrolled": true
   },
   "outputs": [
    {
     "data": {
      "text/html": [
       "<div>\n",
       "<style scoped>\n",
       "    .dataframe tbody tr th:only-of-type {\n",
       "        vertical-align: middle;\n",
       "    }\n",
       "\n",
       "    .dataframe tbody tr th {\n",
       "        vertical-align: top;\n",
       "    }\n",
       "\n",
       "    .dataframe thead th {\n",
       "        text-align: right;\n",
       "    }\n",
       "</style>\n",
       "<table border=\"1\" class=\"dataframe\">\n",
       "  <thead>\n",
       "    <tr style=\"text-align: right;\">\n",
       "      <th></th>\n",
       "      <th>id</th>\n",
       "      <th>title</th>\n",
       "      <th>artist</th>\n",
       "      <th>genre</th>\n",
       "    </tr>\n",
       "  </thead>\n",
       "  <tbody>\n",
       "    <tr>\n",
       "      <th>0</th>\n",
       "      <td>235729</td>\n",
       "      <td>Rap God</td>\n",
       "      <td>Eminem</td>\n",
       "      <td>rap</td>\n",
       "    </tr>\n",
       "    <tr>\n",
       "      <th>1</th>\n",
       "      <td>5832126</td>\n",
       "      <td>WAP</td>\n",
       "      <td>Cardi B</td>\n",
       "      <td>rap</td>\n",
       "    </tr>\n",
       "    <tr>\n",
       "      <th>2</th>\n",
       "      <td>3039923</td>\n",
       "      <td>HUMBLE.</td>\n",
       "      <td>Kendrick Lamar</td>\n",
       "      <td>rap</td>\n",
       "    </tr>\n",
       "    <tr>\n",
       "      <th>3</th>\n",
       "      <td>2845980</td>\n",
       "      <td>Bad and Boujee</td>\n",
       "      <td>Migos</td>\n",
       "      <td>rap</td>\n",
       "    </tr>\n",
       "    <tr>\n",
       "      <th>4</th>\n",
       "      <td>3315890</td>\n",
       "      <td>God’s Plan</td>\n",
       "      <td>Drake</td>\n",
       "      <td>rap</td>\n",
       "    </tr>\n",
       "  </tbody>\n",
       "</table>\n",
       "</div>"
      ],
      "text/plain": [
       "        id           title          artist genre\n",
       "0   235729         Rap God          Eminem   rap\n",
       "1  5832126             WAP         Cardi B   rap\n",
       "2  3039923         HUMBLE.  Kendrick Lamar   rap\n",
       "3  2845980  Bad and Boujee           Migos   rap\n",
       "4  3315890      God’s Plan           Drake   rap"
      ]
     },
     "execution_count": 53,
     "metadata": {},
     "output_type": "execute_result"
    }
   ],
   "source": [
    "songs_db = get_songs(pages=2)\n",
    "songs_db.head()"
   ]
  },
  {
   "cell_type": "code",
   "execution_count": 54,
   "id": "4070e7eb",
   "metadata": {
    "scrolled": false
   },
   "outputs": [
    {
     "data": {
      "application/vnd.jupyter.widget-view+json": {
       "model_id": "15707861a7984cc48755890453d21e61",
       "version_major": 2,
       "version_minor": 0
      },
      "text/plain": [
       "  0%|          | 0/483 [00:00<?, ?it/s]"
      ]
     },
     "metadata": {},
     "output_type": "display_data"
    },
    {
     "data": {
      "text/plain": [
       "0    \"Look, I was gonna go easy on you not to hurt ...\n",
       "1    Whores in this house\\nThere's some whores in t...\n",
       "2    Nobody pray for me\\nIt been that day for me\\nW...\n",
       "3    You know, young rich niggas\\nYou know somethin...\n",
       "4    And they wishin' and wishin' and wishin' and w...\n",
       "Name: lyrics, dtype: object"
      ]
     },
     "execution_count": 54,
     "metadata": {},
     "output_type": "execute_result"
    }
   ],
   "source": [
    "# Given song's id, retrieve its lyrics \n",
    "songs_db['lyrics'] = songs_db['id'].progress_apply(lambda x: genius.lyrics(x))\n",
    "songs_db['lyrics'].head()"
   ]
  },
  {
   "cell_type": "code",
   "execution_count": 55,
   "id": "6e583080",
   "metadata": {},
   "outputs": [],
   "source": [
    "def get_tokens(lyrics):\n",
    "    \"\"\"\n",
    "    lyrics: text of the song\n",
    "    Given the lyrics, split the text in sentences,\n",
    "    removing unicode characters. Then, tokenize and \n",
    "    normalize each sentence.\n",
    "    \"\"\"\n",
    "    \n",
    "    text = lyrics.encode('ascii', 'ignore').decode().split('\\n')\n",
    "    tokens = [text_preproc(sent) for sent in text]\n",
    "    \n",
    "    return tokens"
   ]
  },
  {
   "cell_type": "code",
   "execution_count": 57,
   "id": "4961671a",
   "metadata": {},
   "outputs": [
    {
     "data": {
      "text/html": [
       "<div>\n",
       "<style scoped>\n",
       "    .dataframe tbody tr th:only-of-type {\n",
       "        vertical-align: middle;\n",
       "    }\n",
       "\n",
       "    .dataframe tbody tr th {\n",
       "        vertical-align: top;\n",
       "    }\n",
       "\n",
       "    .dataframe thead th {\n",
       "        text-align: right;\n",
       "    }\n",
       "</style>\n",
       "<table border=\"1\" class=\"dataframe\">\n",
       "  <thead>\n",
       "    <tr style=\"text-align: right;\">\n",
       "      <th></th>\n",
       "      <th>id</th>\n",
       "      <th>title</th>\n",
       "      <th>artist</th>\n",
       "      <th>genre</th>\n",
       "      <th>lyrics</th>\n",
       "      <th>tokens</th>\n",
       "      <th>word2vec</th>\n",
       "      <th>doc2vec</th>\n",
       "      <th>sent_words</th>\n",
       "      <th>doc2vec_no_neutral</th>\n",
       "    </tr>\n",
       "  </thead>\n",
       "  <tbody>\n",
       "    <tr>\n",
       "      <th>0</th>\n",
       "      <td>235729</td>\n",
       "      <td>Rap God</td>\n",
       "      <td>Eminem</td>\n",
       "      <td>rap</td>\n",
       "      <td>\"Look, I was gonna go easy on you not to hurt ...</td>\n",
       "      <td>[[look, I, be, go, to, go, easy, on, you, not,...</td>\n",
       "      <td>[[0.045401257, 0.039497375, 0.012878418, 0.165...</td>\n",
       "      <td>[[0.13366325, -0.46054986, -0.02450592, -0.119...</td>\n",
       "      <td>[[easy, not], [], [wrong], [not], [], [not], [...</td>\n",
       "      <td>[[0.01580186, -0.019095812, 0.0011912873, 0.02...</td>\n",
       "    </tr>\n",
       "    <tr>\n",
       "      <th>1</th>\n",
       "      <td>5832126</td>\n",
       "      <td>WAP</td>\n",
       "      <td>Cardi B</td>\n",
       "      <td>rap</td>\n",
       "      <td>Whores in this house\\nThere's some whores in t...</td>\n",
       "      <td>[[whore, in, this, house], [there, be, some, w...</td>\n",
       "      <td>[[0.12133789, -0.018920898, 0.03717041, 0.1058...</td>\n",
       "      <td>[[-0.0527356, -0.05202704, 0.047151618, 0.0016...</td>\n",
       "      <td>[[], [], [], [], [certified], [weak], [], [], ...</td>\n",
       "      <td>[[-0.0038090122, 0.0065576825, 0.0007762337, 0...</td>\n",
       "    </tr>\n",
       "    <tr>\n",
       "      <th>2</th>\n",
       "      <td>3039923</td>\n",
       "      <td>HUMBLE.</td>\n",
       "      <td>Kendrick Lamar</td>\n",
       "      <td>rap</td>\n",
       "      <td>Nobody pray for me\\nIt been that day for me\\nW...</td>\n",
       "      <td>[[nobody, pray, for, I], [it, be, that, day, f...</td>\n",
       "      <td>[[0.08091736, -0.051979065, 0.10723877, 0.1708...</td>\n",
       "      <td>[[0.22447364, -0.20586772, 0.043614, -0.120065...</td>\n",
       "      <td>[[], [], [], [], [], [], [], [], [], [not], [p...</td>\n",
       "      <td>[[0.00788563, -0.008240136, 0.0037215876, 0.00...</td>\n",
       "    </tr>\n",
       "    <tr>\n",
       "      <th>3</th>\n",
       "      <td>2845980</td>\n",
       "      <td>Bad and Boujee</td>\n",
       "      <td>Migos</td>\n",
       "      <td>rap</td>\n",
       "      <td>You know, young rich niggas\\nYou know somethin...</td>\n",
       "      <td>[[you, know, young, rich, niggas], [you, know,...</td>\n",
       "      <td>[[0.0597168, 0.051171876, 0.025634766, 0.21888...</td>\n",
       "      <td>[[0.27976647, -0.026207156, 0.28834197, 0.3661...</td>\n",
       "      <td>[[], [not, really, never], [], [not], [], [], ...</td>\n",
       "      <td>[[0.007620679, 0.0036392964, 0.009436485, 0.00...</td>\n",
       "    </tr>\n",
       "    <tr>\n",
       "      <th>4</th>\n",
       "      <td>3315890</td>\n",
       "      <td>God’s Plan</td>\n",
       "      <td>Drake</td>\n",
       "      <td>rap</td>\n",
       "      <td>And they wishin' and wishin' and wishin' and w...</td>\n",
       "      <td>[[and, they, wishin, and, wishin, and, wishin,...</td>\n",
       "      <td>[[-0.059375, 0.0009765625, -0.0056640627, 0.19...</td>\n",
       "      <td>[[0.0016151808, 0.10187321, -0.05933735, -0.13...</td>\n",
       "      <td>[[], [], [], [calm, not], [], [not], [], [not]...</td>\n",
       "      <td>[[0.004585327, 0.0058101737, -0.008089632, 0.0...</td>\n",
       "    </tr>\n",
       "  </tbody>\n",
       "</table>\n",
       "</div>"
      ],
      "text/plain": [
       "        id           title          artist genre  \\\n",
       "0   235729         Rap God          Eminem   rap   \n",
       "1  5832126             WAP         Cardi B   rap   \n",
       "2  3039923         HUMBLE.  Kendrick Lamar   rap   \n",
       "3  2845980  Bad and Boujee           Migos   rap   \n",
       "4  3315890      God’s Plan           Drake   rap   \n",
       "\n",
       "                                              lyrics  \\\n",
       "0  \"Look, I was gonna go easy on you not to hurt ...   \n",
       "1  Whores in this house\\nThere's some whores in t...   \n",
       "2  Nobody pray for me\\nIt been that day for me\\nW...   \n",
       "3  You know, young rich niggas\\nYou know somethin...   \n",
       "4  And they wishin' and wishin' and wishin' and w...   \n",
       "\n",
       "                                              tokens  \\\n",
       "0  [[look, I, be, go, to, go, easy, on, you, not,...   \n",
       "1  [[whore, in, this, house], [there, be, some, w...   \n",
       "2  [[nobody, pray, for, I], [it, be, that, day, f...   \n",
       "3  [[you, know, young, rich, niggas], [you, know,...   \n",
       "4  [[and, they, wishin, and, wishin, and, wishin,...   \n",
       "\n",
       "                                            word2vec  \\\n",
       "0  [[0.045401257, 0.039497375, 0.012878418, 0.165...   \n",
       "1  [[0.12133789, -0.018920898, 0.03717041, 0.1058...   \n",
       "2  [[0.08091736, -0.051979065, 0.10723877, 0.1708...   \n",
       "3  [[0.0597168, 0.051171876, 0.025634766, 0.21888...   \n",
       "4  [[-0.059375, 0.0009765625, -0.0056640627, 0.19...   \n",
       "\n",
       "                                             doc2vec  \\\n",
       "0  [[0.13366325, -0.46054986, -0.02450592, -0.119...   \n",
       "1  [[-0.0527356, -0.05202704, 0.047151618, 0.0016...   \n",
       "2  [[0.22447364, -0.20586772, 0.043614, -0.120065...   \n",
       "3  [[0.27976647, -0.026207156, 0.28834197, 0.3661...   \n",
       "4  [[0.0016151808, 0.10187321, -0.05933735, -0.13...   \n",
       "\n",
       "                                          sent_words  \\\n",
       "0  [[easy, not], [], [wrong], [not], [], [not], [...   \n",
       "1  [[], [], [], [], [certified], [weak], [], [], ...   \n",
       "2  [[], [], [], [], [], [], [], [], [], [not], [p...   \n",
       "3  [[], [not, really, never], [], [not], [], [], ...   \n",
       "4  [[], [], [], [calm, not], [], [not], [], [not]...   \n",
       "\n",
       "                                  doc2vec_no_neutral  \n",
       "0  [[0.01580186, -0.019095812, 0.0011912873, 0.02...  \n",
       "1  [[-0.0038090122, 0.0065576825, 0.0007762337, 0...  \n",
       "2  [[0.00788563, -0.008240136, 0.0037215876, 0.00...  \n",
       "3  [[0.007620679, 0.0036392964, 0.009436485, 0.00...  \n",
       "4  [[0.004585327, 0.0058101737, -0.008089632, 0.0...  "
      ]
     },
     "execution_count": 57,
     "metadata": {},
     "output_type": "execute_result"
    }
   ],
   "source": [
    "# Tokenize and vectorize lyrics\n",
    "songs_db['tokens'] = songs_db['lyrics'].apply(lambda x: get_tokens(x))\n",
    "# First model\n",
    "songs_db['word2vec'] = songs_db['tokens'].apply(lambda x: [sent2vec(sent) for sent in x])\n",
    "# Second model\n",
    "songs_db['doc2vec'] = songs_db['tokens'].apply(lambda x: [modelDoc2Vec.infer_vector(sent) for sent in x])\n",
    "# Third model\n",
    "songs_db['sent_words'] = songs_db['tokens'].apply(lambda x: [polarity_check(sent) for sent in x])\n",
    "songs_db['doc2vec_no_neutral'] = songs_db['sent_words'].apply(lambda x: [modelDoc2Vec2.infer_vector(sent) for sent in x])\n",
    "\n",
    "songs_db.head()"
   ]
  },
  {
   "cell_type": "markdown",
   "id": "c99a6373",
   "metadata": {},
   "source": [
    "## Model Application"
   ]
  },
  {
   "cell_type": "code",
   "execution_count": 71,
   "id": "357d6c55",
   "metadata": {},
   "outputs": [],
   "source": [
    "def song2emo(song, nn):\n",
    "    \"\"\"\n",
    "    song: list of vector representation of each sentence in the song\n",
    "    Apply the regression model to each sentence and assign an emotion\n",
    "    to it. Return the occurrences of each emotion in the song.\n",
    "    \"\"\"\n",
    "    \n",
    "    song = pd.DataFrame(song)\n",
    "    vad = pd.DataFrame(nn.predict(song))\n",
    "    emotions = vad.apply(lambda x: vad_to_em(x), axis=1).value_counts()\n",
    "    \n",
    "    emo_occ = []\n",
    "    \n",
    "    for emo in emo_coord.keys():\n",
    "        try:\n",
    "            emo_occ.append(emotions[emo])\n",
    "        except:\n",
    "            emo_occ.append(np.nan)\n",
    "            \n",
    "    return emo_occ\n",
    "\n",
    "def freq_emo(emo_occ):\n",
    "    \n",
    "    emo_df = pd.DataFrame(emo_occ.to_list(), columns=list(emo_coord.keys()))\n",
    "    \n",
    "    # Assign the emotion with highest occurrencies to the song\n",
    "    emo_df['main_emotion'] = emo_df.apply(lambda x: x.idxmax(), axis=1)\n",
    "    \n",
    "    return emo_df"
   ]
  },
  {
   "cell_type": "markdown",
   "id": "e2a313c2",
   "metadata": {},
   "source": [
    "### Model 1 (Word2Vec)"
   ]
  },
  {
   "cell_type": "code",
   "execution_count": 73,
   "id": "c296dde0",
   "metadata": {
    "scrolled": true
   },
   "outputs": [
    {
     "data": {
      "application/vnd.jupyter.widget-view+json": {
       "model_id": "1cc0fc36ae7244a09600ec299167dc9f",
       "version_major": 2,
       "version_minor": 0
      },
      "text/plain": [
       "  0%|          | 0/483 [00:00<?, ?it/s]"
      ]
     },
     "metadata": {},
     "output_type": "display_data"
    },
    {
     "data": {
      "text/html": [
       "<div>\n",
       "<style scoped>\n",
       "    .dataframe tbody tr th:only-of-type {\n",
       "        vertical-align: middle;\n",
       "    }\n",
       "\n",
       "    .dataframe tbody tr th {\n",
       "        vertical-align: top;\n",
       "    }\n",
       "\n",
       "    .dataframe thead th {\n",
       "        text-align: right;\n",
       "    }\n",
       "</style>\n",
       "<table border=\"1\" class=\"dataframe\">\n",
       "  <thead>\n",
       "    <tr style=\"text-align: right;\">\n",
       "      <th></th>\n",
       "      <th>anger</th>\n",
       "      <th>disgust</th>\n",
       "      <th>fear</th>\n",
       "      <th>joy</th>\n",
       "      <th>sadness</th>\n",
       "      <th>surprise</th>\n",
       "      <th>main_emotion</th>\n",
       "    </tr>\n",
       "  </thead>\n",
       "  <tbody>\n",
       "    <tr>\n",
       "      <th>0</th>\n",
       "      <td>NaN</td>\n",
       "      <td>1.0</td>\n",
       "      <td>NaN</td>\n",
       "      <td>NaN</td>\n",
       "      <td>NaN</td>\n",
       "      <td>NaN</td>\n",
       "      <td>disgust</td>\n",
       "    </tr>\n",
       "    <tr>\n",
       "      <th>1</th>\n",
       "      <td>NaN</td>\n",
       "      <td>NaN</td>\n",
       "      <td>NaN</td>\n",
       "      <td>NaN</td>\n",
       "      <td>NaN</td>\n",
       "      <td>NaN</td>\n",
       "      <td>NaN</td>\n",
       "    </tr>\n",
       "    <tr>\n",
       "      <th>2</th>\n",
       "      <td>NaN</td>\n",
       "      <td>NaN</td>\n",
       "      <td>NaN</td>\n",
       "      <td>NaN</td>\n",
       "      <td>NaN</td>\n",
       "      <td>NaN</td>\n",
       "      <td>NaN</td>\n",
       "    </tr>\n",
       "    <tr>\n",
       "      <th>3</th>\n",
       "      <td>NaN</td>\n",
       "      <td>4.0</td>\n",
       "      <td>NaN</td>\n",
       "      <td>NaN</td>\n",
       "      <td>NaN</td>\n",
       "      <td>NaN</td>\n",
       "      <td>disgust</td>\n",
       "    </tr>\n",
       "    <tr>\n",
       "      <th>4</th>\n",
       "      <td>NaN</td>\n",
       "      <td>NaN</td>\n",
       "      <td>NaN</td>\n",
       "      <td>NaN</td>\n",
       "      <td>NaN</td>\n",
       "      <td>NaN</td>\n",
       "      <td>NaN</td>\n",
       "    </tr>\n",
       "  </tbody>\n",
       "</table>\n",
       "</div>"
      ],
      "text/plain": [
       "   anger  disgust  fear  joy  sadness  surprise main_emotion\n",
       "0    NaN      1.0   NaN  NaN      NaN       NaN      disgust\n",
       "1    NaN      NaN   NaN  NaN      NaN       NaN          NaN\n",
       "2    NaN      NaN   NaN  NaN      NaN       NaN          NaN\n",
       "3    NaN      4.0   NaN  NaN      NaN       NaN      disgust\n",
       "4    NaN      NaN   NaN  NaN      NaN       NaN          NaN"
      ]
     },
     "execution_count": 73,
     "metadata": {},
     "output_type": "execute_result"
    }
   ],
   "source": [
    "# Apply the regression model in order to predict VAD values\n",
    "emotions = songs_db['word2vec'].progress_apply(lambda x: song2emo(x, nn=model))\n",
    "emotions = freq_emo(emotions)\n",
    "emotions.head()"
   ]
  },
  {
   "cell_type": "code",
   "execution_count": 74,
   "id": "1c0471cc",
   "metadata": {},
   "outputs": [
    {
     "data": {
      "text/plain": [
       "disgust    47\n",
       "joy        47\n",
       "fear        1\n",
       "Name: main_emotion, dtype: int64"
      ]
     },
     "execution_count": 74,
     "metadata": {},
     "output_type": "execute_result"
    }
   ],
   "source": [
    "emotions['main_emotion'].value_counts()"
   ]
  },
  {
   "cell_type": "markdown",
   "id": "9f8aeeb0",
   "metadata": {},
   "source": [
    "### Model 2 (Doc2Vec)"
   ]
  },
  {
   "cell_type": "code",
   "execution_count": 75,
   "id": "f65cb8dc",
   "metadata": {},
   "outputs": [
    {
     "data": {
      "application/vnd.jupyter.widget-view+json": {
       "model_id": "18eca4a4183f41aea771aa3cab89847c",
       "version_major": 2,
       "version_minor": 0
      },
      "text/plain": [
       "  0%|          | 0/483 [00:00<?, ?it/s]"
      ]
     },
     "metadata": {},
     "output_type": "display_data"
    },
    {
     "data": {
      "text/plain": [
       "disgust    66\n",
       "sadness     9\n",
       "joy         5\n",
       "Name: main_emotion, dtype: int64"
      ]
     },
     "execution_count": 75,
     "metadata": {},
     "output_type": "execute_result"
    }
   ],
   "source": [
    "emotions2 = songs_db['doc2vec'].progress_apply(lambda x: song2emo(x, nn=model2))\n",
    "emotions2 = freq_emo(emotions2)\n",
    "emotions2['main_emotion'].value_counts()"
   ]
  },
  {
   "cell_type": "markdown",
   "id": "6eeda22b",
   "metadata": {},
   "source": [
    "### Model 3 (Doc2Vec w/o neutral words)"
   ]
  },
  {
   "cell_type": "code",
   "execution_count": 76,
   "id": "b2c8515c",
   "metadata": {
    "scrolled": true
   },
   "outputs": [
    {
     "data": {
      "application/vnd.jupyter.widget-view+json": {
       "model_id": "68c6c8f5065b4c008608195b0d88fc1b",
       "version_major": 2,
       "version_minor": 0
      },
      "text/plain": [
       "  0%|          | 0/483 [00:00<?, ?it/s]"
      ]
     },
     "metadata": {},
     "output_type": "display_data"
    },
    {
     "data": {
      "text/plain": [
       "Series([], Name: main_emotion, dtype: int64)"
      ]
     },
     "execution_count": 76,
     "metadata": {},
     "output_type": "execute_result"
    }
   ],
   "source": [
    "emotions3 = songs_db['doc2vec_no_neutral'].progress_apply(lambda x: song2emo(x, nn=model3))\n",
    "emotions3 = freq_emo(emotions3)\n",
    "emotions3['main_emotion'].value_counts()"
   ]
  },
  {
   "cell_type": "markdown",
   "id": "cb6058bc",
   "metadata": {},
   "source": [
    "## Correlation Analysis"
   ]
  },
  {
   "cell_type": "code",
   "execution_count": 78,
   "id": "c1774bd3",
   "metadata": {},
   "outputs": [],
   "source": [
    "# Retrieve main emotions for each song and model\n",
    "songs_db['emotion1'] = emotions['main_emotion']\n",
    "songs_db['emotion2'] = emotions2['main_emotion']"
   ]
  },
  {
   "cell_type": "code",
   "execution_count": 79,
   "id": "2e4f29c6",
   "metadata": {},
   "outputs": [
    {
     "data": {
      "text/plain": [
       "emotion1  genre  \n",
       "disgust   rap        16\n",
       "          rock       11\n",
       "          pop         8\n",
       "          rb          7\n",
       "          country     5\n",
       "fear      country     1\n",
       "joy       pop        14\n",
       "          rb         13\n",
       "          rap         8\n",
       "          country     6\n",
       "          rock        6\n",
       "Name: genre, dtype: int64"
      ]
     },
     "execution_count": 79,
     "metadata": {},
     "output_type": "execute_result"
    }
   ],
   "source": [
    "# Check the distribution of genres for each emotion\n",
    "songs_db.groupby('emotion1')['genre'].value_counts()"
   ]
  },
  {
   "cell_type": "code",
   "execution_count": 80,
   "id": "3154833a",
   "metadata": {},
   "outputs": [
    {
     "data": {
      "text/plain": [
       "emotion2  genre  \n",
       "disgust   rap        21\n",
       "          country    12\n",
       "          pop        12\n",
       "          rb         11\n",
       "          rock       10\n",
       "joy       pop         2\n",
       "          rap         2\n",
       "          rb          1\n",
       "sadness   rap         5\n",
       "          pop         2\n",
       "          rock        2\n",
       "Name: genre, dtype: int64"
      ]
     },
     "execution_count": 80,
     "metadata": {},
     "output_type": "execute_result"
    }
   ],
   "source": [
    "songs_db.groupby('emotion2')['genre'].value_counts()"
   ]
  },
  {
   "cell_type": "markdown",
   "id": "4a2fc1e9",
   "metadata": {},
   "source": [
    "## Playlist Generation"
   ]
  },
  {
   "cell_type": "code",
   "execution_count": 88,
   "id": "3edff927",
   "metadata": {
    "scrolled": true
   },
   "outputs": [
    {
     "data": {
      "text/html": [
       "<div>\n",
       "<style scoped>\n",
       "    .dataframe tbody tr th:only-of-type {\n",
       "        vertical-align: middle;\n",
       "    }\n",
       "\n",
       "    .dataframe tbody tr th {\n",
       "        vertical-align: top;\n",
       "    }\n",
       "\n",
       "    .dataframe thead th {\n",
       "        text-align: right;\n",
       "    }\n",
       "</style>\n",
       "<table border=\"1\" class=\"dataframe\">\n",
       "  <thead>\n",
       "    <tr style=\"text-align: right;\">\n",
       "      <th></th>\n",
       "      <th>id</th>\n",
       "      <th>title</th>\n",
       "      <th>artist</th>\n",
       "    </tr>\n",
       "  </thead>\n",
       "  <tbody>\n",
       "    <tr>\n",
       "      <th>102</th>\n",
       "      <td>4063065</td>\n",
       "      <td>thank u, next</td>\n",
       "      <td>Ariana Grande</td>\n",
       "    </tr>\n",
       "    <tr>\n",
       "      <th>105</th>\n",
       "      <td>299177</td>\n",
       "      <td>Drunk in Love</td>\n",
       "      <td>Beyoncé</td>\n",
       "    </tr>\n",
       "    <tr>\n",
       "      <th>130</th>\n",
       "      <td>2412669</td>\n",
       "      <td>Father Stretch My Hands, Pt. 1</td>\n",
       "      <td>Kanye West</td>\n",
       "    </tr>\n",
       "    <tr>\n",
       "      <th>135</th>\n",
       "      <td>2413549</td>\n",
       "      <td>Ultralight Beam</td>\n",
       "      <td>Kanye West</td>\n",
       "    </tr>\n",
       "    <tr>\n",
       "      <th>143</th>\n",
       "      <td>3047141</td>\n",
       "      <td>LOVE.</td>\n",
       "      <td>Kendrick Lamar</td>\n",
       "    </tr>\n",
       "    <tr>\n",
       "      <th>158</th>\n",
       "      <td>2819412</td>\n",
       "      <td>Let Me Love You</td>\n",
       "      <td>DJ Snake</td>\n",
       "    </tr>\n",
       "    <tr>\n",
       "      <th>159</th>\n",
       "      <td>3754239</td>\n",
       "      <td>Girls Like You (Remix)</td>\n",
       "      <td>Maroon 5</td>\n",
       "    </tr>\n",
       "    <tr>\n",
       "      <th>160</th>\n",
       "      <td>118812</td>\n",
       "      <td>Fly Me to the Moon</td>\n",
       "      <td>Frank Sinatra</td>\n",
       "    </tr>\n",
       "    <tr>\n",
       "      <th>169</th>\n",
       "      <td>2998843</td>\n",
       "      <td>Something Just Like This</td>\n",
       "      <td>The Chainsmokers &amp; Coldplay</td>\n",
       "    </tr>\n",
       "    <tr>\n",
       "      <th>176</th>\n",
       "      <td>3114474</td>\n",
       "      <td>Wild Thoughts</td>\n",
       "      <td>DJ Khaled</td>\n",
       "    </tr>\n",
       "    <tr>\n",
       "      <th>178</th>\n",
       "      <td>601809</td>\n",
       "      <td>Feeling Myself</td>\n",
       "      <td>Nicki Minaj</td>\n",
       "    </tr>\n",
       "    <tr>\n",
       "      <th>180</th>\n",
       "      <td>2849861</td>\n",
       "      <td>Say You Won’t Let Go</td>\n",
       "      <td>James Arthur</td>\n",
       "    </tr>\n",
       "    <tr>\n",
       "      <th>187</th>\n",
       "      <td>4953164</td>\n",
       "      <td>Lose You To Love Me</td>\n",
       "      <td>Selena Gomez</td>\n",
       "    </tr>\n",
       "    <tr>\n",
       "      <th>191</th>\n",
       "      <td>2988428</td>\n",
       "      <td>Young Dumb &amp; Broke</td>\n",
       "      <td>Khalid</td>\n",
       "    </tr>\n",
       "  </tbody>\n",
       "</table>\n",
       "</div>"
      ],
      "text/plain": [
       "          id                           title                       artist\n",
       "102  4063065                   thank u, next                Ariana Grande\n",
       "105   299177                   Drunk in Love                      Beyoncé\n",
       "130  2412669  Father Stretch My Hands, Pt. 1                   Kanye West\n",
       "135  2413549                 Ultralight Beam                   Kanye West\n",
       "143  3047141                           LOVE.               Kendrick Lamar\n",
       "158  2819412                 Let Me Love You                     DJ Snake\n",
       "159  3754239          Girls Like You (Remix)                     Maroon 5\n",
       "160   118812              Fly Me to the Moon                Frank Sinatra\n",
       "169  2998843        Something Just Like This  The Chainsmokers & Coldplay\n",
       "176  3114474                   Wild Thoughts                    DJ Khaled\n",
       "178   601809                  Feeling Myself                  Nicki Minaj\n",
       "180  2849861            Say You Won’t Let Go                 James Arthur\n",
       "187  4953164             Lose You To Love Me                 Selena Gomez\n",
       "191  2988428              Young Dumb & Broke                       Khalid"
      ]
     },
     "execution_count": 88,
     "metadata": {},
     "output_type": "execute_result"
    }
   ],
   "source": [
    "# Generate playlist based on genre and emotion\n",
    "genre = 'pop'\n",
    "emotion = 'joy'\n",
    "model = '1'\n",
    "\n",
    "songs_db.loc[(songs_db['genre'] == genre) & (songs_db['emotion'+model] == emotion), ['id', 'title', 'artist']]"
   ]
  },
  {
   "cell_type": "code",
   "execution_count": null,
   "id": "9d913cc9",
   "metadata": {},
   "outputs": [],
   "source": []
  }
 ],
 "metadata": {
  "kernelspec": {
   "display_name": "Python 3",
   "language": "python",
   "name": "python3"
  },
  "language_info": {
   "codemirror_mode": {
    "name": "ipython",
    "version": 3
   },
   "file_extension": ".py",
   "mimetype": "text/x-python",
   "name": "python",
   "nbconvert_exporter": "python",
   "pygments_lexer": "ipython3",
   "version": "3.8.8"
  }
 },
 "nbformat": 4,
 "nbformat_minor": 5
}
